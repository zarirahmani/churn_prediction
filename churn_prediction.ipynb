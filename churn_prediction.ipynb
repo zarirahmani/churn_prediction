{
 "cells": [
  {
   "cell_type": "markdown",
   "id": "2f91dd89",
   "metadata": {},
   "source": [
    "## Churn Prediction: Logistic Regression\n",
    "\n"
   ]
  },
  {
   "cell_type": "markdown",
   "id": "2568c885",
   "metadata": {},
   "source": [
    "### Data Preparation"
   ]
  },
  {
   "cell_type": "code",
   "execution_count": 2,
   "id": "9614e12c",
   "metadata": {},
   "outputs": [],
   "source": [
    "import pandas as pd \n",
    "import numpy as np\n",
    "\n",
    "import matplotlib.pyplot as plt"
   ]
  },
  {
   "cell_type": "code",
   "execution_count": 3,
   "id": "e07a7532",
   "metadata": {},
   "outputs": [],
   "source": [
    "customers = pd.read_csv('input/customer.csv')"
   ]
  },
  {
   "cell_type": "code",
   "execution_count": 4,
   "id": "09eb5788",
   "metadata": {},
   "outputs": [],
   "source": [
    "# customers = 'https://...'\n",
    "# !wget $customers -0 input/customers.csv"
   ]
  },
  {
   "cell_type": "code",
   "execution_count": 5,
   "id": "c8504532",
   "metadata": {},
   "outputs": [
    {
     "data": {
      "application/vnd.microsoft.datawrangler.viewer.v0+json": {
       "columns": [
        {
         "name": "index",
         "rawType": "object",
         "type": "string"
        },
        {
         "name": "0",
         "rawType": "object",
         "type": "unknown"
        },
        {
         "name": "1",
         "rawType": "object",
         "type": "unknown"
        },
        {
         "name": "2",
         "rawType": "object",
         "type": "unknown"
        },
        {
         "name": "3",
         "rawType": "object",
         "type": "unknown"
        },
        {
         "name": "4",
         "rawType": "object",
         "type": "unknown"
        }
       ],
       "ref": "498010a9-4e33-47ef-9916-0fa9fc936038",
       "rows": [
        [
         "customerID",
         "7590-VHVEG",
         "5575-GNVDE",
         "3668-QPYBK",
         "7795-CFOCW",
         "9237-HQITU"
        ],
        [
         "gender",
         "Female",
         "Male",
         "Male",
         "Male",
         "Female"
        ],
        [
         "SeniorCitizen",
         "0",
         "0",
         "0",
         "0",
         "0"
        ],
        [
         "Partner",
         "Yes",
         "No",
         "No",
         "No",
         "No"
        ],
        [
         "Dependents",
         "No",
         "No",
         "No",
         "No",
         "No"
        ],
        [
         "tenure",
         "1",
         "34",
         "2",
         "45",
         "2"
        ],
        [
         "PhoneService",
         "No",
         "Yes",
         "Yes",
         "No",
         "Yes"
        ],
        [
         "MultipleLines",
         "No phone service",
         "No",
         "No",
         "No phone service",
         "No"
        ],
        [
         "InternetService",
         "DSL",
         "DSL",
         "DSL",
         "DSL",
         "Fiber optic"
        ],
        [
         "OnlineSecurity",
         "No",
         "Yes",
         "Yes",
         "Yes",
         "No"
        ],
        [
         "OnlineBackup",
         "Yes",
         "No",
         "Yes",
         "No",
         "No"
        ],
        [
         "DeviceProtection",
         "No",
         "Yes",
         "No",
         "Yes",
         "No"
        ],
        [
         "TechSupport",
         "No",
         "No",
         "No",
         "Yes",
         "No"
        ],
        [
         "StreamingTV",
         "No",
         "No",
         "No",
         "No",
         "No"
        ],
        [
         "StreamingMovies",
         "No",
         "No",
         "No",
         "No",
         "No"
        ],
        [
         "Contract",
         "Month-to-month",
         "One year",
         "Month-to-month",
         "One year",
         "Month-to-month"
        ],
        [
         "PaperlessBilling",
         "Yes",
         "No",
         "Yes",
         "No",
         "Yes"
        ],
        [
         "PaymentMethod",
         "Electronic check",
         "Mailed check",
         "Mailed check",
         "Bank transfer (automatic)",
         "Electronic check"
        ],
        [
         "MonthlyCharges",
         "29.85",
         "56.95",
         "53.85",
         "42.3",
         "70.7"
        ],
        [
         "TotalCharges",
         "29.85",
         "1889.5",
         "108.15",
         "1840.75",
         "151.65"
        ],
        [
         "Churn",
         "No",
         "No",
         "Yes",
         "No",
         "Yes"
        ]
       ],
       "shape": {
        "columns": 5,
        "rows": 21
       }
      },
      "text/html": [
       "<div>\n",
       "<style scoped>\n",
       "    .dataframe tbody tr th:only-of-type {\n",
       "        vertical-align: middle;\n",
       "    }\n",
       "\n",
       "    .dataframe tbody tr th {\n",
       "        vertical-align: top;\n",
       "    }\n",
       "\n",
       "    .dataframe thead th {\n",
       "        text-align: right;\n",
       "    }\n",
       "</style>\n",
       "<table border=\"1\" class=\"dataframe\">\n",
       "  <thead>\n",
       "    <tr style=\"text-align: right;\">\n",
       "      <th></th>\n",
       "      <th>0</th>\n",
       "      <th>1</th>\n",
       "      <th>2</th>\n",
       "      <th>3</th>\n",
       "      <th>4</th>\n",
       "    </tr>\n",
       "  </thead>\n",
       "  <tbody>\n",
       "    <tr>\n",
       "      <th>customerID</th>\n",
       "      <td>7590-VHVEG</td>\n",
       "      <td>5575-GNVDE</td>\n",
       "      <td>3668-QPYBK</td>\n",
       "      <td>7795-CFOCW</td>\n",
       "      <td>9237-HQITU</td>\n",
       "    </tr>\n",
       "    <tr>\n",
       "      <th>gender</th>\n",
       "      <td>Female</td>\n",
       "      <td>Male</td>\n",
       "      <td>Male</td>\n",
       "      <td>Male</td>\n",
       "      <td>Female</td>\n",
       "    </tr>\n",
       "    <tr>\n",
       "      <th>SeniorCitizen</th>\n",
       "      <td>0</td>\n",
       "      <td>0</td>\n",
       "      <td>0</td>\n",
       "      <td>0</td>\n",
       "      <td>0</td>\n",
       "    </tr>\n",
       "    <tr>\n",
       "      <th>Partner</th>\n",
       "      <td>Yes</td>\n",
       "      <td>No</td>\n",
       "      <td>No</td>\n",
       "      <td>No</td>\n",
       "      <td>No</td>\n",
       "    </tr>\n",
       "    <tr>\n",
       "      <th>Dependents</th>\n",
       "      <td>No</td>\n",
       "      <td>No</td>\n",
       "      <td>No</td>\n",
       "      <td>No</td>\n",
       "      <td>No</td>\n",
       "    </tr>\n",
       "    <tr>\n",
       "      <th>tenure</th>\n",
       "      <td>1</td>\n",
       "      <td>34</td>\n",
       "      <td>2</td>\n",
       "      <td>45</td>\n",
       "      <td>2</td>\n",
       "    </tr>\n",
       "    <tr>\n",
       "      <th>PhoneService</th>\n",
       "      <td>No</td>\n",
       "      <td>Yes</td>\n",
       "      <td>Yes</td>\n",
       "      <td>No</td>\n",
       "      <td>Yes</td>\n",
       "    </tr>\n",
       "    <tr>\n",
       "      <th>MultipleLines</th>\n",
       "      <td>No phone service</td>\n",
       "      <td>No</td>\n",
       "      <td>No</td>\n",
       "      <td>No phone service</td>\n",
       "      <td>No</td>\n",
       "    </tr>\n",
       "    <tr>\n",
       "      <th>InternetService</th>\n",
       "      <td>DSL</td>\n",
       "      <td>DSL</td>\n",
       "      <td>DSL</td>\n",
       "      <td>DSL</td>\n",
       "      <td>Fiber optic</td>\n",
       "    </tr>\n",
       "    <tr>\n",
       "      <th>OnlineSecurity</th>\n",
       "      <td>No</td>\n",
       "      <td>Yes</td>\n",
       "      <td>Yes</td>\n",
       "      <td>Yes</td>\n",
       "      <td>No</td>\n",
       "    </tr>\n",
       "    <tr>\n",
       "      <th>OnlineBackup</th>\n",
       "      <td>Yes</td>\n",
       "      <td>No</td>\n",
       "      <td>Yes</td>\n",
       "      <td>No</td>\n",
       "      <td>No</td>\n",
       "    </tr>\n",
       "    <tr>\n",
       "      <th>DeviceProtection</th>\n",
       "      <td>No</td>\n",
       "      <td>Yes</td>\n",
       "      <td>No</td>\n",
       "      <td>Yes</td>\n",
       "      <td>No</td>\n",
       "    </tr>\n",
       "    <tr>\n",
       "      <th>TechSupport</th>\n",
       "      <td>No</td>\n",
       "      <td>No</td>\n",
       "      <td>No</td>\n",
       "      <td>Yes</td>\n",
       "      <td>No</td>\n",
       "    </tr>\n",
       "    <tr>\n",
       "      <th>StreamingTV</th>\n",
       "      <td>No</td>\n",
       "      <td>No</td>\n",
       "      <td>No</td>\n",
       "      <td>No</td>\n",
       "      <td>No</td>\n",
       "    </tr>\n",
       "    <tr>\n",
       "      <th>StreamingMovies</th>\n",
       "      <td>No</td>\n",
       "      <td>No</td>\n",
       "      <td>No</td>\n",
       "      <td>No</td>\n",
       "      <td>No</td>\n",
       "    </tr>\n",
       "    <tr>\n",
       "      <th>Contract</th>\n",
       "      <td>Month-to-month</td>\n",
       "      <td>One year</td>\n",
       "      <td>Month-to-month</td>\n",
       "      <td>One year</td>\n",
       "      <td>Month-to-month</td>\n",
       "    </tr>\n",
       "    <tr>\n",
       "      <th>PaperlessBilling</th>\n",
       "      <td>Yes</td>\n",
       "      <td>No</td>\n",
       "      <td>Yes</td>\n",
       "      <td>No</td>\n",
       "      <td>Yes</td>\n",
       "    </tr>\n",
       "    <tr>\n",
       "      <th>PaymentMethod</th>\n",
       "      <td>Electronic check</td>\n",
       "      <td>Mailed check</td>\n",
       "      <td>Mailed check</td>\n",
       "      <td>Bank transfer (automatic)</td>\n",
       "      <td>Electronic check</td>\n",
       "    </tr>\n",
       "    <tr>\n",
       "      <th>MonthlyCharges</th>\n",
       "      <td>29.85</td>\n",
       "      <td>56.95</td>\n",
       "      <td>53.85</td>\n",
       "      <td>42.3</td>\n",
       "      <td>70.7</td>\n",
       "    </tr>\n",
       "    <tr>\n",
       "      <th>TotalCharges</th>\n",
       "      <td>29.85</td>\n",
       "      <td>1889.5</td>\n",
       "      <td>108.15</td>\n",
       "      <td>1840.75</td>\n",
       "      <td>151.65</td>\n",
       "    </tr>\n",
       "    <tr>\n",
       "      <th>Churn</th>\n",
       "      <td>No</td>\n",
       "      <td>No</td>\n",
       "      <td>Yes</td>\n",
       "      <td>No</td>\n",
       "      <td>Yes</td>\n",
       "    </tr>\n",
       "  </tbody>\n",
       "</table>\n",
       "</div>"
      ],
      "text/plain": [
       "                                 0  ...                 4\n",
       "customerID              7590-VHVEG  ...        9237-HQITU\n",
       "gender                      Female  ...            Female\n",
       "SeniorCitizen                    0  ...                 0\n",
       "Partner                        Yes  ...                No\n",
       "Dependents                      No  ...                No\n",
       "tenure                           1  ...                 2\n",
       "PhoneService                    No  ...               Yes\n",
       "MultipleLines     No phone service  ...                No\n",
       "InternetService                DSL  ...       Fiber optic\n",
       "OnlineSecurity                  No  ...                No\n",
       "OnlineBackup                   Yes  ...                No\n",
       "DeviceProtection                No  ...                No\n",
       "TechSupport                     No  ...                No\n",
       "StreamingTV                     No  ...                No\n",
       "StreamingMovies                 No  ...                No\n",
       "Contract            Month-to-month  ...    Month-to-month\n",
       "PaperlessBilling               Yes  ...               Yes\n",
       "PaymentMethod     Electronic check  ...  Electronic check\n",
       "MonthlyCharges               29.85  ...              70.7\n",
       "TotalCharges                 29.85  ...            151.65\n",
       "Churn                           No  ...               Yes\n",
       "\n",
       "[21 rows x 5 columns]"
      ]
     },
     "execution_count": 5,
     "metadata": {},
     "output_type": "execute_result"
    }
   ],
   "source": [
    "customers.head().T"
   ]
  },
  {
   "cell_type": "code",
   "execution_count": 6,
   "id": "cf60fdf3",
   "metadata": {},
   "outputs": [
    {
     "data": {
      "text/plain": [
       "Index(['customerID', 'gender', 'SeniorCitizen', 'Partner', 'Dependents',\n",
       "       'tenure', 'PhoneService', 'MultipleLines', 'InternetService',\n",
       "       'OnlineSecurity', 'OnlineBackup', 'DeviceProtection', 'TechSupport',\n",
       "       'StreamingTV', 'StreamingMovies', 'Contract', 'PaperlessBilling',\n",
       "       'PaymentMethod', 'MonthlyCharges', 'TotalCharges', 'Churn'],\n",
       "      dtype='object')"
      ]
     },
     "execution_count": 6,
     "metadata": {},
     "output_type": "execute_result"
    }
   ],
   "source": [
    "customers.columns"
   ]
  },
  {
   "cell_type": "code",
   "execution_count": 7,
   "id": "82f14866",
   "metadata": {},
   "outputs": [],
   "source": [
    "customers.columns = customers.columns.str.lower()\n",
    "categorical_columns = customers.dtypes[customers.dtypes == 'object'].index #index: gets the index labels (which are the column names) of this filtered Series\n",
    "for c in categorical_columns:\n",
    "    customers[c] = customers[c].str.lower().str.replace(' ', '_')"
   ]
  },
  {
   "cell_type": "code",
   "execution_count": 8,
   "id": "237da4e2",
   "metadata": {},
   "outputs": [
    {
     "data": {
      "application/vnd.microsoft.datawrangler.viewer.v0+json": {
       "columns": [
        {
         "name": "index",
         "rawType": "int64",
         "type": "integer"
        },
        {
         "name": "customerid",
         "rawType": "object",
         "type": "string"
        },
        {
         "name": "gender",
         "rawType": "object",
         "type": "string"
        },
        {
         "name": "seniorcitizen",
         "rawType": "int64",
         "type": "integer"
        },
        {
         "name": "partner",
         "rawType": "object",
         "type": "string"
        },
        {
         "name": "dependents",
         "rawType": "object",
         "type": "string"
        },
        {
         "name": "tenure",
         "rawType": "int64",
         "type": "integer"
        },
        {
         "name": "phoneservice",
         "rawType": "object",
         "type": "string"
        },
        {
         "name": "multiplelines",
         "rawType": "object",
         "type": "string"
        },
        {
         "name": "internetservice",
         "rawType": "object",
         "type": "string"
        },
        {
         "name": "onlinesecurity",
         "rawType": "object",
         "type": "string"
        },
        {
         "name": "onlinebackup",
         "rawType": "object",
         "type": "string"
        },
        {
         "name": "deviceprotection",
         "rawType": "object",
         "type": "string"
        },
        {
         "name": "techsupport",
         "rawType": "object",
         "type": "string"
        },
        {
         "name": "streamingtv",
         "rawType": "object",
         "type": "string"
        },
        {
         "name": "streamingmovies",
         "rawType": "object",
         "type": "string"
        },
        {
         "name": "contract",
         "rawType": "object",
         "type": "string"
        },
        {
         "name": "paperlessbilling",
         "rawType": "object",
         "type": "string"
        },
        {
         "name": "paymentmethod",
         "rawType": "object",
         "type": "string"
        },
        {
         "name": "monthlycharges",
         "rawType": "float64",
         "type": "float"
        },
        {
         "name": "totalcharges",
         "rawType": "object",
         "type": "string"
        },
        {
         "name": "churn",
         "rawType": "object",
         "type": "string"
        }
       ],
       "ref": "2a52aec3-b4cc-4a7a-8389-56fac9de0d06",
       "rows": [
        [
         "0",
         "7590-vhveg",
         "female",
         "0",
         "yes",
         "no",
         "1",
         "no",
         "no_phone_service",
         "dsl",
         "no",
         "yes",
         "no",
         "no",
         "no",
         "no",
         "month-to-month",
         "yes",
         "electronic_check",
         "29.85",
         "29.85",
         "no"
        ],
        [
         "1",
         "5575-gnvde",
         "male",
         "0",
         "no",
         "no",
         "34",
         "yes",
         "no",
         "dsl",
         "yes",
         "no",
         "yes",
         "no",
         "no",
         "no",
         "one_year",
         "no",
         "mailed_check",
         "56.95",
         "1889.5",
         "no"
        ],
        [
         "2",
         "3668-qpybk",
         "male",
         "0",
         "no",
         "no",
         "2",
         "yes",
         "no",
         "dsl",
         "yes",
         "yes",
         "no",
         "no",
         "no",
         "no",
         "month-to-month",
         "yes",
         "mailed_check",
         "53.85",
         "108.15",
         "yes"
        ],
        [
         "3",
         "7795-cfocw",
         "male",
         "0",
         "no",
         "no",
         "45",
         "no",
         "no_phone_service",
         "dsl",
         "yes",
         "no",
         "yes",
         "yes",
         "no",
         "no",
         "one_year",
         "no",
         "bank_transfer_(automatic)",
         "42.3",
         "1840.75",
         "no"
        ],
        [
         "4",
         "9237-hqitu",
         "female",
         "0",
         "no",
         "no",
         "2",
         "yes",
         "no",
         "fiber_optic",
         "no",
         "no",
         "no",
         "no",
         "no",
         "no",
         "month-to-month",
         "yes",
         "electronic_check",
         "70.7",
         "151.65",
         "yes"
        ]
       ],
       "shape": {
        "columns": 21,
        "rows": 5
       }
      },
      "text/html": [
       "<div>\n",
       "<style scoped>\n",
       "    .dataframe tbody tr th:only-of-type {\n",
       "        vertical-align: middle;\n",
       "    }\n",
       "\n",
       "    .dataframe tbody tr th {\n",
       "        vertical-align: top;\n",
       "    }\n",
       "\n",
       "    .dataframe thead th {\n",
       "        text-align: right;\n",
       "    }\n",
       "</style>\n",
       "<table border=\"1\" class=\"dataframe\">\n",
       "  <thead>\n",
       "    <tr style=\"text-align: right;\">\n",
       "      <th></th>\n",
       "      <th>customerid</th>\n",
       "      <th>gender</th>\n",
       "      <th>seniorcitizen</th>\n",
       "      <th>partner</th>\n",
       "      <th>dependents</th>\n",
       "      <th>tenure</th>\n",
       "      <th>phoneservice</th>\n",
       "      <th>multiplelines</th>\n",
       "      <th>internetservice</th>\n",
       "      <th>onlinesecurity</th>\n",
       "      <th>onlinebackup</th>\n",
       "      <th>deviceprotection</th>\n",
       "      <th>techsupport</th>\n",
       "      <th>streamingtv</th>\n",
       "      <th>streamingmovies</th>\n",
       "      <th>contract</th>\n",
       "      <th>paperlessbilling</th>\n",
       "      <th>paymentmethod</th>\n",
       "      <th>monthlycharges</th>\n",
       "      <th>totalcharges</th>\n",
       "      <th>churn</th>\n",
       "    </tr>\n",
       "  </thead>\n",
       "  <tbody>\n",
       "    <tr>\n",
       "      <th>0</th>\n",
       "      <td>7590-vhveg</td>\n",
       "      <td>female</td>\n",
       "      <td>0</td>\n",
       "      <td>yes</td>\n",
       "      <td>no</td>\n",
       "      <td>1</td>\n",
       "      <td>no</td>\n",
       "      <td>no_phone_service</td>\n",
       "      <td>dsl</td>\n",
       "      <td>no</td>\n",
       "      <td>yes</td>\n",
       "      <td>no</td>\n",
       "      <td>no</td>\n",
       "      <td>no</td>\n",
       "      <td>no</td>\n",
       "      <td>month-to-month</td>\n",
       "      <td>yes</td>\n",
       "      <td>electronic_check</td>\n",
       "      <td>29.85</td>\n",
       "      <td>29.85</td>\n",
       "      <td>no</td>\n",
       "    </tr>\n",
       "    <tr>\n",
       "      <th>1</th>\n",
       "      <td>5575-gnvde</td>\n",
       "      <td>male</td>\n",
       "      <td>0</td>\n",
       "      <td>no</td>\n",
       "      <td>no</td>\n",
       "      <td>34</td>\n",
       "      <td>yes</td>\n",
       "      <td>no</td>\n",
       "      <td>dsl</td>\n",
       "      <td>yes</td>\n",
       "      <td>no</td>\n",
       "      <td>yes</td>\n",
       "      <td>no</td>\n",
       "      <td>no</td>\n",
       "      <td>no</td>\n",
       "      <td>one_year</td>\n",
       "      <td>no</td>\n",
       "      <td>mailed_check</td>\n",
       "      <td>56.95</td>\n",
       "      <td>1889.5</td>\n",
       "      <td>no</td>\n",
       "    </tr>\n",
       "    <tr>\n",
       "      <th>2</th>\n",
       "      <td>3668-qpybk</td>\n",
       "      <td>male</td>\n",
       "      <td>0</td>\n",
       "      <td>no</td>\n",
       "      <td>no</td>\n",
       "      <td>2</td>\n",
       "      <td>yes</td>\n",
       "      <td>no</td>\n",
       "      <td>dsl</td>\n",
       "      <td>yes</td>\n",
       "      <td>yes</td>\n",
       "      <td>no</td>\n",
       "      <td>no</td>\n",
       "      <td>no</td>\n",
       "      <td>no</td>\n",
       "      <td>month-to-month</td>\n",
       "      <td>yes</td>\n",
       "      <td>mailed_check</td>\n",
       "      <td>53.85</td>\n",
       "      <td>108.15</td>\n",
       "      <td>yes</td>\n",
       "    </tr>\n",
       "    <tr>\n",
       "      <th>3</th>\n",
       "      <td>7795-cfocw</td>\n",
       "      <td>male</td>\n",
       "      <td>0</td>\n",
       "      <td>no</td>\n",
       "      <td>no</td>\n",
       "      <td>45</td>\n",
       "      <td>no</td>\n",
       "      <td>no_phone_service</td>\n",
       "      <td>dsl</td>\n",
       "      <td>yes</td>\n",
       "      <td>no</td>\n",
       "      <td>yes</td>\n",
       "      <td>yes</td>\n",
       "      <td>no</td>\n",
       "      <td>no</td>\n",
       "      <td>one_year</td>\n",
       "      <td>no</td>\n",
       "      <td>bank_transfer_(automatic)</td>\n",
       "      <td>42.30</td>\n",
       "      <td>1840.75</td>\n",
       "      <td>no</td>\n",
       "    </tr>\n",
       "    <tr>\n",
       "      <th>4</th>\n",
       "      <td>9237-hqitu</td>\n",
       "      <td>female</td>\n",
       "      <td>0</td>\n",
       "      <td>no</td>\n",
       "      <td>no</td>\n",
       "      <td>2</td>\n",
       "      <td>yes</td>\n",
       "      <td>no</td>\n",
       "      <td>fiber_optic</td>\n",
       "      <td>no</td>\n",
       "      <td>no</td>\n",
       "      <td>no</td>\n",
       "      <td>no</td>\n",
       "      <td>no</td>\n",
       "      <td>no</td>\n",
       "      <td>month-to-month</td>\n",
       "      <td>yes</td>\n",
       "      <td>electronic_check</td>\n",
       "      <td>70.70</td>\n",
       "      <td>151.65</td>\n",
       "      <td>yes</td>\n",
       "    </tr>\n",
       "  </tbody>\n",
       "</table>\n",
       "</div>"
      ],
      "text/plain": [
       "   customerid  gender  seniorcitizen  ... monthlycharges totalcharges  churn\n",
       "0  7590-vhveg  female              0  ...          29.85        29.85     no\n",
       "1  5575-gnvde    male              0  ...          56.95       1889.5     no\n",
       "2  3668-qpybk    male              0  ...          53.85       108.15    yes\n",
       "3  7795-cfocw    male              0  ...          42.30      1840.75     no\n",
       "4  9237-hqitu  female              0  ...          70.70       151.65    yes\n",
       "\n",
       "[5 rows x 21 columns]"
      ]
     },
     "execution_count": 8,
     "metadata": {},
     "output_type": "execute_result"
    }
   ],
   "source": [
    "customers.head()"
   ]
  },
  {
   "cell_type": "code",
   "execution_count": 9,
   "id": "139b1d2d",
   "metadata": {},
   "outputs": [
    {
     "data": {
      "application/vnd.microsoft.datawrangler.viewer.v0+json": {
       "columns": [
        {
         "name": "index",
         "rawType": "object",
         "type": "string"
        },
        {
         "name": "0",
         "rawType": "object",
         "type": "unknown"
        }
       ],
       "ref": "9dcd96e7-f771-47bf-87df-cb72a1398e74",
       "rows": [
        [
         "customerid",
         "object"
        ],
        [
         "gender",
         "object"
        ],
        [
         "seniorcitizen",
         "int64"
        ],
        [
         "partner",
         "object"
        ],
        [
         "dependents",
         "object"
        ],
        [
         "tenure",
         "int64"
        ],
        [
         "phoneservice",
         "object"
        ],
        [
         "multiplelines",
         "object"
        ],
        [
         "internetservice",
         "object"
        ],
        [
         "onlinesecurity",
         "object"
        ],
        [
         "onlinebackup",
         "object"
        ],
        [
         "deviceprotection",
         "object"
        ],
        [
         "techsupport",
         "object"
        ],
        [
         "streamingtv",
         "object"
        ],
        [
         "streamingmovies",
         "object"
        ],
        [
         "contract",
         "object"
        ],
        [
         "paperlessbilling",
         "object"
        ],
        [
         "paymentmethod",
         "object"
        ],
        [
         "monthlycharges",
         "float64"
        ],
        [
         "totalcharges",
         "object"
        ],
        [
         "churn",
         "object"
        ]
       ],
       "shape": {
        "columns": 1,
        "rows": 21
       }
      },
      "text/plain": [
       "customerid           object\n",
       "gender               object\n",
       "seniorcitizen         int64\n",
       "partner              object\n",
       "dependents           object\n",
       "tenure                int64\n",
       "phoneservice         object\n",
       "multiplelines        object\n",
       "internetservice      object\n",
       "onlinesecurity       object\n",
       "onlinebackup         object\n",
       "deviceprotection     object\n",
       "techsupport          object\n",
       "streamingtv          object\n",
       "streamingmovies      object\n",
       "contract             object\n",
       "paperlessbilling     object\n",
       "paymentmethod        object\n",
       "monthlycharges      float64\n",
       "totalcharges         object\n",
       "churn                object\n",
       "dtype: object"
      ]
     },
     "execution_count": 9,
     "metadata": {},
     "output_type": "execute_result"
    }
   ],
   "source": [
    "customers.dtypes"
   ]
  },
  {
   "cell_type": "code",
   "execution_count": 10,
   "id": "08aab373",
   "metadata": {},
   "outputs": [],
   "source": [
    "# \"totalcharges\" has an object data type while it should be a number. So I will change it to a numeric data file.\n",
    "customers.totalcharges = pd.to_numeric(customers.totalcharges, errors = 'coerce')  # There are some empty cells that cannot be parsed, I will use coerce to ignore them."
   ]
  },
  {
   "cell_type": "code",
   "execution_count": 11,
   "id": "51113ad8",
   "metadata": {},
   "outputs": [
    {
     "data": {
      "application/vnd.microsoft.datawrangler.viewer.v0+json": {
       "columns": [
        {
         "name": "index",
         "rawType": "int64",
         "type": "integer"
        },
        {
         "name": "customerid",
         "rawType": "object",
         "type": "string"
        },
        {
         "name": "totalcharges",
         "rawType": "float64",
         "type": "float"
        }
       ],
       "ref": "c42c5c9b-2960-4b33-abb7-acf2e496a4d9",
       "rows": [
        [
         "488",
         "4472-lvygi",
         null
        ],
        [
         "753",
         "3115-czmzd",
         null
        ],
        [
         "936",
         "5709-lvoeq",
         null
        ],
        [
         "1082",
         "4367-nuyao",
         null
        ],
        [
         "1340",
         "1371-dwpaz",
         null
        ],
        [
         "3331",
         "7644-omvmy",
         null
        ],
        [
         "3826",
         "3213-vvolg",
         null
        ],
        [
         "4380",
         "2520-sgtta",
         null
        ],
        [
         "5218",
         "2923-arzlg",
         null
        ],
        [
         "6670",
         "4075-wkniu",
         null
        ],
        [
         "6754",
         "2775-sefee",
         null
        ]
       ],
       "shape": {
        "columns": 2,
        "rows": 11
       }
      },
      "text/html": [
       "<div>\n",
       "<style scoped>\n",
       "    .dataframe tbody tr th:only-of-type {\n",
       "        vertical-align: middle;\n",
       "    }\n",
       "\n",
       "    .dataframe tbody tr th {\n",
       "        vertical-align: top;\n",
       "    }\n",
       "\n",
       "    .dataframe thead th {\n",
       "        text-align: right;\n",
       "    }\n",
       "</style>\n",
       "<table border=\"1\" class=\"dataframe\">\n",
       "  <thead>\n",
       "    <tr style=\"text-align: right;\">\n",
       "      <th></th>\n",
       "      <th>customerid</th>\n",
       "      <th>totalcharges</th>\n",
       "    </tr>\n",
       "  </thead>\n",
       "  <tbody>\n",
       "    <tr>\n",
       "      <th>488</th>\n",
       "      <td>4472-lvygi</td>\n",
       "      <td>NaN</td>\n",
       "    </tr>\n",
       "    <tr>\n",
       "      <th>753</th>\n",
       "      <td>3115-czmzd</td>\n",
       "      <td>NaN</td>\n",
       "    </tr>\n",
       "    <tr>\n",
       "      <th>936</th>\n",
       "      <td>5709-lvoeq</td>\n",
       "      <td>NaN</td>\n",
       "    </tr>\n",
       "    <tr>\n",
       "      <th>1082</th>\n",
       "      <td>4367-nuyao</td>\n",
       "      <td>NaN</td>\n",
       "    </tr>\n",
       "    <tr>\n",
       "      <th>1340</th>\n",
       "      <td>1371-dwpaz</td>\n",
       "      <td>NaN</td>\n",
       "    </tr>\n",
       "    <tr>\n",
       "      <th>3331</th>\n",
       "      <td>7644-omvmy</td>\n",
       "      <td>NaN</td>\n",
       "    </tr>\n",
       "    <tr>\n",
       "      <th>3826</th>\n",
       "      <td>3213-vvolg</td>\n",
       "      <td>NaN</td>\n",
       "    </tr>\n",
       "    <tr>\n",
       "      <th>4380</th>\n",
       "      <td>2520-sgtta</td>\n",
       "      <td>NaN</td>\n",
       "    </tr>\n",
       "    <tr>\n",
       "      <th>5218</th>\n",
       "      <td>2923-arzlg</td>\n",
       "      <td>NaN</td>\n",
       "    </tr>\n",
       "    <tr>\n",
       "      <th>6670</th>\n",
       "      <td>4075-wkniu</td>\n",
       "      <td>NaN</td>\n",
       "    </tr>\n",
       "    <tr>\n",
       "      <th>6754</th>\n",
       "      <td>2775-sefee</td>\n",
       "      <td>NaN</td>\n",
       "    </tr>\n",
       "  </tbody>\n",
       "</table>\n",
       "</div>"
      ],
      "text/plain": [
       "      customerid  totalcharges\n",
       "488   4472-lvygi           NaN\n",
       "753   3115-czmzd           NaN\n",
       "936   5709-lvoeq           NaN\n",
       "1082  4367-nuyao           NaN\n",
       "1340  1371-dwpaz           NaN\n",
       "3331  7644-omvmy           NaN\n",
       "3826  3213-vvolg           NaN\n",
       "4380  2520-sgtta           NaN\n",
       "5218  2923-arzlg           NaN\n",
       "6670  4075-wkniu           NaN\n",
       "6754  2775-sefee           NaN"
      ]
     },
     "execution_count": 11,
     "metadata": {},
     "output_type": "execute_result"
    }
   ],
   "source": [
    "customers[customers.totalcharges.isnull()][['customerid', 'totalcharges']]"
   ]
  },
  {
   "cell_type": "code",
   "execution_count": 12,
   "id": "24f59bc2",
   "metadata": {},
   "outputs": [
    {
     "name": "stderr",
     "output_type": "stream",
     "text": [
      "/tmp/ipykernel_2854/3893934657.py:2: FutureWarning: A value is trying to be set on a copy of a DataFrame or Series through chained assignment using an inplace method.\n",
      "The behavior will change in pandas 3.0. This inplace method will never work because the intermediate object on which we are setting values always behaves as a copy.\n",
      "\n",
      "For example, when doing 'df[col].method(value, inplace=True)', try using 'df.method({col: value}, inplace=True)' or df[col] = df[col].method(value) instead, to perform the operation inplace on the original object.\n",
      "\n",
      "\n",
      "  customers.totalcharges.fillna(0, inplace=True)\n"
     ]
    }
   ],
   "source": [
    "# I will replace the empty cells with 0.\n",
    "customers.totalcharges.fillna(0, inplace=True)"
   ]
  },
  {
   "cell_type": "code",
   "execution_count": 13,
   "id": "d40bd136",
   "metadata": {},
   "outputs": [
    {
     "data": {
      "application/vnd.microsoft.datawrangler.viewer.v0+json": {
       "columns": [
        {
         "name": "index",
         "rawType": "int64",
         "type": "integer"
        },
        {
         "name": "churn",
         "rawType": "object",
         "type": "string"
        }
       ],
       "ref": "b8bd44dd-b13d-4a45-9e3d-89a91f277a02",
       "rows": [
        [
         "0",
         "no"
        ],
        [
         "1",
         "no"
        ],
        [
         "2",
         "yes"
        ],
        [
         "3",
         "no"
        ],
        [
         "4",
         "yes"
        ],
        [
         "5",
         "yes"
        ],
        [
         "6",
         "no"
        ],
        [
         "7",
         "no"
        ],
        [
         "8",
         "yes"
        ],
        [
         "9",
         "no"
        ],
        [
         "10",
         "no"
        ],
        [
         "11",
         "no"
        ],
        [
         "12",
         "no"
        ],
        [
         "13",
         "yes"
        ],
        [
         "14",
         "no"
        ],
        [
         "15",
         "no"
        ],
        [
         "16",
         "no"
        ],
        [
         "17",
         "no"
        ],
        [
         "18",
         "yes"
        ],
        [
         "19",
         "no"
        ],
        [
         "20",
         "yes"
        ],
        [
         "21",
         "no"
        ],
        [
         "22",
         "yes"
        ],
        [
         "23",
         "no"
        ],
        [
         "24",
         "no"
        ],
        [
         "25",
         "no"
        ],
        [
         "26",
         "yes"
        ],
        [
         "27",
         "yes"
        ],
        [
         "28",
         "no"
        ],
        [
         "29",
         "yes"
        ],
        [
         "30",
         "no"
        ],
        [
         "31",
         "no"
        ],
        [
         "32",
         "no"
        ],
        [
         "33",
         "no"
        ],
        [
         "34",
         "no"
        ],
        [
         "35",
         "no"
        ],
        [
         "36",
         "yes"
        ],
        [
         "37",
         "no"
        ],
        [
         "38",
         "yes"
        ],
        [
         "39",
         "yes"
        ],
        [
         "40",
         "no"
        ],
        [
         "41",
         "no"
        ],
        [
         "42",
         "no"
        ],
        [
         "43",
         "no"
        ],
        [
         "44",
         "no"
        ],
        [
         "45",
         "no"
        ],
        [
         "46",
         "no"
        ],
        [
         "47",
         "yes"
        ],
        [
         "48",
         "no"
        ],
        [
         "49",
         "no"
        ]
       ],
       "shape": {
        "columns": 1,
        "rows": 7043
       }
      },
      "text/plain": [
       "0        no\n",
       "1        no\n",
       "2       yes\n",
       "3        no\n",
       "4       yes\n",
       "       ... \n",
       "7038     no\n",
       "7039     no\n",
       "7040     no\n",
       "7041    yes\n",
       "7042     no\n",
       "Name: churn, Length: 7043, dtype: object"
      ]
     },
     "execution_count": 13,
     "metadata": {},
     "output_type": "execute_result"
    }
   ],
   "source": [
    "# I'll have a look at the churn column.\n",
    "customers.churn"
   ]
  },
  {
   "cell_type": "code",
   "execution_count": 14,
   "id": "90f99107",
   "metadata": {},
   "outputs": [],
   "source": [
    "# I will change yes/no to 1 and 0.\n",
    "customers.churn = (customers.churn == 'yes').astype(int)\n"
   ]
  },
  {
   "cell_type": "code",
   "execution_count": 15,
   "id": "91873c14",
   "metadata": {},
   "outputs": [
    {
     "data": {
      "application/vnd.microsoft.datawrangler.viewer.v0+json": {
       "columns": [
        {
         "name": "index",
         "rawType": "int64",
         "type": "integer"
        },
        {
         "name": "churn",
         "rawType": "int64",
         "type": "integer"
        }
       ],
       "ref": "e66f826a-bd93-4a3a-a6b3-c8b785f798ac",
       "rows": [
        [
         "0",
         "0"
        ],
        [
         "1",
         "0"
        ],
        [
         "2",
         "1"
        ],
        [
         "3",
         "0"
        ],
        [
         "4",
         "1"
        ],
        [
         "5",
         "1"
        ],
        [
         "6",
         "0"
        ],
        [
         "7",
         "0"
        ],
        [
         "8",
         "1"
        ],
        [
         "9",
         "0"
        ],
        [
         "10",
         "0"
        ],
        [
         "11",
         "0"
        ],
        [
         "12",
         "0"
        ],
        [
         "13",
         "1"
        ],
        [
         "14",
         "0"
        ],
        [
         "15",
         "0"
        ],
        [
         "16",
         "0"
        ],
        [
         "17",
         "0"
        ],
        [
         "18",
         "1"
        ],
        [
         "19",
         "0"
        ],
        [
         "20",
         "1"
        ],
        [
         "21",
         "0"
        ],
        [
         "22",
         "1"
        ],
        [
         "23",
         "0"
        ],
        [
         "24",
         "0"
        ],
        [
         "25",
         "0"
        ],
        [
         "26",
         "1"
        ],
        [
         "27",
         "1"
        ],
        [
         "28",
         "0"
        ],
        [
         "29",
         "1"
        ],
        [
         "30",
         "0"
        ],
        [
         "31",
         "0"
        ],
        [
         "32",
         "0"
        ],
        [
         "33",
         "0"
        ],
        [
         "34",
         "0"
        ],
        [
         "35",
         "0"
        ],
        [
         "36",
         "1"
        ],
        [
         "37",
         "0"
        ],
        [
         "38",
         "1"
        ],
        [
         "39",
         "1"
        ],
        [
         "40",
         "0"
        ],
        [
         "41",
         "0"
        ],
        [
         "42",
         "0"
        ],
        [
         "43",
         "0"
        ],
        [
         "44",
         "0"
        ],
        [
         "45",
         "0"
        ],
        [
         "46",
         "0"
        ],
        [
         "47",
         "1"
        ],
        [
         "48",
         "0"
        ],
        [
         "49",
         "0"
        ]
       ],
       "shape": {
        "columns": 1,
        "rows": 7043
       }
      },
      "text/plain": [
       "0       0\n",
       "1       0\n",
       "2       1\n",
       "3       0\n",
       "4       1\n",
       "       ..\n",
       "7038    0\n",
       "7039    0\n",
       "7040    0\n",
       "7041    1\n",
       "7042    0\n",
       "Name: churn, Length: 7043, dtype: int64"
      ]
     },
     "execution_count": 15,
     "metadata": {},
     "output_type": "execute_result"
    }
   ],
   "source": [
    "customers.churn"
   ]
  },
  {
   "cell_type": "markdown",
   "id": "b4d0d45c",
   "metadata": {},
   "source": [
    "### Setting Up the Validation Framework"
   ]
  },
  {
   "cell_type": "code",
   "execution_count": 16,
   "id": "61077074",
   "metadata": {},
   "outputs": [
    {
     "data": {
      "text/plain": [
       "(4225, 1409, 1409)"
      ]
     },
     "execution_count": 16,
     "metadata": {},
     "output_type": "execute_result"
    }
   ],
   "source": [
    "# I will split the data into train, validation and test sets, using scikit-learn. Train: 60%, Validation: 20%, Test: 20%. First, I will split the data into train (full train: %80) and test sets (%20), then I will split the train set into train and validation sets.\n",
    "\n",
    "from sklearn.model_selection import train_test_split\n",
    "\n",
    "customers_full_train, customers_test = train_test_split(customers, test_size = 0.2, random_state = 1)\n",
    "customers_train, customers_val = train_test_split(customers_full_train, test_size = 0.25, random_state = 1)  # 0.2 / 0.8 = 0.25 because the validation set should be 20% of the full data and 20% of full data set is 25% of the full train set.\n",
    "len(customers_train), len(customers_val), len(customers_test)"
   ]
  },
  {
   "cell_type": "code",
   "execution_count": 17,
   "id": "f2834801",
   "metadata": {},
   "outputs": [],
   "source": [
    "customers_train = customers_train.reset_index(drop=True) \n",
    "customers_val = customers_val.reset_index(drop=True)\n",
    "customers_test = customers_test.reset_index(drop=True)"
   ]
  },
  {
   "cell_type": "code",
   "execution_count": 18,
   "id": "9fb8ff87",
   "metadata": {},
   "outputs": [],
   "source": [
    "# Let's get the y variables\n",
    "y_train = customers_train.churn.values\n",
    "y_val = customers_val.churn.values\n",
    "y_test = customers_test.churn.values\n",
    "\n",
    "# \"y_test = customers_test.churn\" returns a pandas Series object.\n",
    "# \"y_test = customers_test.churn.values\" returns a NumPy array.\n"
   ]
  },
  {
   "cell_type": "code",
   "execution_count": 19,
   "id": "b248a332",
   "metadata": {},
   "outputs": [],
   "source": [
    "del customers_train['churn']\n",
    "del customers_val['churn']\n",
    "del customers_test['churn']"
   ]
  },
  {
   "cell_type": "markdown",
   "id": "c2c5ed76",
   "metadata": {},
   "source": [
    "### Exploratory Data Analysis"
   ]
  },
  {
   "cell_type": "code",
   "execution_count": 20,
   "id": "0a985b78",
   "metadata": {},
   "outputs": [],
   "source": [
    "customers_full_train = customers_full_train.reset_index(drop=True)"
   ]
  },
  {
   "cell_type": "code",
   "execution_count": 21,
   "id": "ab68748b",
   "metadata": {},
   "outputs": [
    {
     "data": {
      "application/vnd.microsoft.datawrangler.viewer.v0+json": {
       "columns": [
        {
         "name": "index",
         "rawType": "object",
         "type": "string"
        },
        {
         "name": "0",
         "rawType": "int64",
         "type": "integer"
        }
       ],
       "ref": "66b34e2e-596f-4249-8455-659372dbddd9",
       "rows": [
        [
         "customerid",
         "0"
        ],
        [
         "gender",
         "0"
        ],
        [
         "seniorcitizen",
         "0"
        ],
        [
         "partner",
         "0"
        ],
        [
         "dependents",
         "0"
        ],
        [
         "tenure",
         "0"
        ],
        [
         "phoneservice",
         "0"
        ],
        [
         "multiplelines",
         "0"
        ],
        [
         "internetservice",
         "0"
        ],
        [
         "onlinesecurity",
         "0"
        ],
        [
         "onlinebackup",
         "0"
        ],
        [
         "deviceprotection",
         "0"
        ],
        [
         "techsupport",
         "0"
        ],
        [
         "streamingtv",
         "0"
        ],
        [
         "streamingmovies",
         "0"
        ],
        [
         "contract",
         "0"
        ],
        [
         "paperlessbilling",
         "0"
        ],
        [
         "paymentmethod",
         "0"
        ],
        [
         "monthlycharges",
         "0"
        ],
        [
         "totalcharges",
         "0"
        ],
        [
         "churn",
         "0"
        ]
       ],
       "shape": {
        "columns": 1,
        "rows": 21
       }
      },
      "text/plain": [
       "customerid          0\n",
       "gender              0\n",
       "seniorcitizen       0\n",
       "partner             0\n",
       "dependents          0\n",
       "tenure              0\n",
       "phoneservice        0\n",
       "multiplelines       0\n",
       "internetservice     0\n",
       "onlinesecurity      0\n",
       "onlinebackup        0\n",
       "deviceprotection    0\n",
       "techsupport         0\n",
       "streamingtv         0\n",
       "streamingmovies     0\n",
       "contract            0\n",
       "paperlessbilling    0\n",
       "paymentmethod       0\n",
       "monthlycharges      0\n",
       "totalcharges        0\n",
       "churn               0\n",
       "dtype: int64"
      ]
     },
     "execution_count": 21,
     "metadata": {},
     "output_type": "execute_result"
    }
   ],
   "source": [
    "customers_full_train.isnull().sum()\n",
    "#There are no missing values in the data."
   ]
  },
  {
   "cell_type": "code",
   "execution_count": 22,
   "id": "63ae26ac",
   "metadata": {},
   "outputs": [
    {
     "data": {
      "application/vnd.microsoft.datawrangler.viewer.v0+json": {
       "columns": [
        {
         "name": "churn",
         "rawType": "int64",
         "type": "integer"
        },
        {
         "name": "proportion",
         "rawType": "float64",
         "type": "float"
        }
       ],
       "ref": "be9256f6-8c77-47ea-a67a-10a1ee7a22aa",
       "rows": [
        [
         "0",
         "0.7300319488817891"
        ],
        [
         "1",
         "0.26996805111821087"
        ]
       ],
       "shape": {
        "columns": 1,
        "rows": 2
       }
      },
      "text/plain": [
       "churn\n",
       "0    0.730032\n",
       "1    0.269968\n",
       "Name: proportion, dtype: float64"
      ]
     },
     "execution_count": 22,
     "metadata": {},
     "output_type": "execute_result"
    }
   ],
   "source": [
    "# Let's have a look at the target variable. \n",
    "customers_full_train.churn.value_counts(normalize = True) #normalize changes the counts to percentages."
   ]
  },
  {
   "cell_type": "markdown",
   "id": "df313ef1",
   "metadata": {},
   "source": [
    "The churn rate is 0.27. "
   ]
  },
  {
   "cell_type": "code",
   "execution_count": 23,
   "id": "f8f1f4a4",
   "metadata": {},
   "outputs": [
    {
     "data": {
      "text/plain": [
       "np.float64(0.27)"
      ]
     },
     "execution_count": 23,
     "metadata": {},
     "output_type": "execute_result"
    }
   ],
   "source": [
    "global_churn_rate = customers_full_train.churn.mean()\n",
    "round(global_churn_rate,2)"
   ]
  },
  {
   "cell_type": "code",
   "execution_count": 24,
   "id": "a39bb0dd",
   "metadata": {},
   "outputs": [
    {
     "data": {
      "application/vnd.microsoft.datawrangler.viewer.v0+json": {
       "columns": [
        {
         "name": "index",
         "rawType": "object",
         "type": "string"
        },
        {
         "name": "0",
         "rawType": "object",
         "type": "unknown"
        }
       ],
       "ref": "c112864a-0b78-4280-ae3e-7c123eb183ed",
       "rows": [
        [
         "customerid",
         "object"
        ],
        [
         "gender",
         "object"
        ],
        [
         "seniorcitizen",
         "int64"
        ],
        [
         "partner",
         "object"
        ],
        [
         "dependents",
         "object"
        ],
        [
         "tenure",
         "int64"
        ],
        [
         "phoneservice",
         "object"
        ],
        [
         "multiplelines",
         "object"
        ],
        [
         "internetservice",
         "object"
        ],
        [
         "onlinesecurity",
         "object"
        ],
        [
         "onlinebackup",
         "object"
        ],
        [
         "deviceprotection",
         "object"
        ],
        [
         "techsupport",
         "object"
        ],
        [
         "streamingtv",
         "object"
        ],
        [
         "streamingmovies",
         "object"
        ],
        [
         "contract",
         "object"
        ],
        [
         "paperlessbilling",
         "object"
        ],
        [
         "paymentmethod",
         "object"
        ],
        [
         "monthlycharges",
         "float64"
        ],
        [
         "totalcharges",
         "float64"
        ],
        [
         "churn",
         "int64"
        ]
       ],
       "shape": {
        "columns": 1,
        "rows": 21
       }
      },
      "text/plain": [
       "customerid           object\n",
       "gender               object\n",
       "seniorcitizen         int64\n",
       "partner              object\n",
       "dependents           object\n",
       "tenure                int64\n",
       "phoneservice         object\n",
       "multiplelines        object\n",
       "internetservice      object\n",
       "onlinesecurity       object\n",
       "onlinebackup         object\n",
       "deviceprotection     object\n",
       "techsupport          object\n",
       "streamingtv          object\n",
       "streamingmovies      object\n",
       "contract             object\n",
       "paperlessbilling     object\n",
       "paymentmethod        object\n",
       "monthlycharges      float64\n",
       "totalcharges        float64\n",
       "churn                 int64\n",
       "dtype: object"
      ]
     },
     "execution_count": 24,
     "metadata": {},
     "output_type": "execute_result"
    }
   ],
   "source": [
    "# Let's look at categorical and numerical variables.\n",
    "customers_full_train.dtypes"
   ]
  },
  {
   "cell_type": "code",
   "execution_count": 25,
   "id": "247bf0c1",
   "metadata": {},
   "outputs": [
    {
     "data": {
      "image/png": "[encoded data removed]",
      "text/plain": [
       "<Figure size 1000x500 with 1 Axes>"
      ]
     },
     "metadata": {},
     "output_type": "display_data"
    },
    {
     "data": {
      "image/png": "[encoded data removed]",
      "text/plain": [
       "<Figure size 1000x500 with 1 Axes>"
      ]
     },
     "metadata": {},
     "output_type": "display_data"
    },
    {
     "data": {
      "image/png": "[encoded data removed]",
      "text/plain": [
       "<Figure size 1000x500 with 1 Axes>"
      ]
     },
     "metadata": {},
     "output_type": "display_data"
    }
   ],
   "source": [
    "# I am interested in 3 numerical variables: \"tenure\", \"monthlycharges\" and \"totalcharges\". I will plot their distributions.\n",
    "numerical = ['tenure', 'monthlycharges', 'totalcharges']\n",
    "for c in numerical:\n",
    "    plt.figure(figsize=(10, 5))\n",
    "    customers_full_train[c].hist(bins=50)\n",
    "    plt.title(c)\n",
    "    plt.xlabel(c)\n",
    "    plt.ylabel('Frequency')\n",
    "    plt.show()"
   ]
  },
  {
   "cell_type": "code",
   "execution_count": 26,
   "id": "769e452e",
   "metadata": {},
   "outputs": [
    {
     "data": {
      "application/vnd.microsoft.datawrangler.viewer.v0+json": {
       "columns": [
        {
         "name": "index",
         "rawType": "object",
         "type": "string"
        },
        {
         "name": "0",
         "rawType": "int64",
         "type": "integer"
        }
       ],
       "ref": "f5301c2b-8e44-4dba-bf79-09fdc94683c3",
       "rows": [
        [
         "customerid",
         "5634"
        ],
        [
         "gender",
         "2"
        ],
        [
         "partner",
         "2"
        ],
        [
         "dependents",
         "2"
        ],
        [
         "phoneservice",
         "2"
        ],
        [
         "multiplelines",
         "3"
        ],
        [
         "internetservice",
         "3"
        ],
        [
         "onlinesecurity",
         "3"
        ],
        [
         "onlinebackup",
         "3"
        ],
        [
         "deviceprotection",
         "3"
        ],
        [
         "techsupport",
         "3"
        ],
        [
         "streamingtv",
         "3"
        ],
        [
         "streamingmovies",
         "3"
        ],
        [
         "contract",
         "3"
        ],
        [
         "paperlessbilling",
         "2"
        ],
        [
         "paymentmethod",
         "4"
        ]
       ],
       "shape": {
        "columns": 1,
        "rows": 16
       }
      },
      "text/plain": [
       "customerid          5634\n",
       "gender                 2\n",
       "partner                2\n",
       "dependents             2\n",
       "phoneservice           2\n",
       "multiplelines          3\n",
       "internetservice        3\n",
       "onlinesecurity         3\n",
       "onlinebackup           3\n",
       "deviceprotection       3\n",
       "techsupport            3\n",
       "streamingtv            3\n",
       "streamingmovies        3\n",
       "contract               3\n",
       "paperlessbilling       2\n",
       "paymentmethod          4\n",
       "dtype: int64"
      ]
     },
     "execution_count": 26,
     "metadata": {},
     "output_type": "execute_result"
    }
   ],
   "source": [
    "# Now I will look at the categorical variables.\n",
    "categorical = customers_full_train.dtypes[customers_full_train.dtypes == 'object'].index\n",
    "customers_full_train[categorical].nunique()"
   ]
  },
  {
   "cell_type": "markdown",
   "id": "72ec5183",
   "metadata": {},
   "source": [
    "### Feature Importance Analysis: Churn Rate and Risk Ratio"
   ]
  },
  {
   "cell_type": "markdown",
   "id": "59f18485",
   "metadata": {},
   "source": [
    "Feature importance analysis involves identifying which features affect our target variable and is part of exploratory data analysis"
   ]
  },
  {
   "cell_type": "markdown",
   "id": "7438b295",
   "metadata": {},
   "source": [
    "I will have a look at churn rate among different groups for example between men and women."
   ]
  },
  {
   "cell_type": "code",
   "execution_count": 27,
   "id": "c36dfa64",
   "metadata": {},
   "outputs": [
    {
     "data": {
      "text/plain": [
       "np.float64(0.27682403433476394)"
      ]
     },
     "execution_count": 27,
     "metadata": {},
     "output_type": "execute_result"
    }
   ],
   "source": [
    "churn_female = customers_full_train[customers_full_train.gender == 'female'].churn.mean()\n",
    "churn_female"
   ]
  },
  {
   "cell_type": "code",
   "execution_count": 28,
   "id": "65276283",
   "metadata": {},
   "outputs": [
    {
     "data": {
      "text/plain": [
       "np.float64(0.2632135306553911)"
      ]
     },
     "execution_count": 28,
     "metadata": {},
     "output_type": "execute_result"
    }
   ],
   "source": [
    "churn_male = customers_full_train[customers_full_train.gender == 'male'].churn.mean()\n",
    "churn_male"
   ]
  },
  {
   "cell_type": "code",
   "execution_count": 29,
   "id": "a2d50530",
   "metadata": {},
   "outputs": [
    {
     "data": {
      "text/plain": [
       "np.float64(0.26996805111821087)"
      ]
     },
     "execution_count": 29,
     "metadata": {},
     "output_type": "execute_result"
    }
   ],
   "source": [
    "global_churn_rate"
   ]
  },
  {
   "cell_type": "code",
   "execution_count": 30,
   "id": "93e9b375",
   "metadata": {},
   "outputs": [
    {
     "data": {
      "application/vnd.microsoft.datawrangler.viewer.v0+json": {
       "columns": [
        {
         "name": "partner",
         "rawType": "object",
         "type": "string"
        },
        {
         "name": "proportion",
         "rawType": "float64",
         "type": "float"
        }
       ],
       "ref": "4eea708f-60df-4789-90f9-696650836b6e",
       "rows": [
        [
         "no",
         "0.5204117855875044"
        ],
        [
         "yes",
         "0.47958821441249555"
        ]
       ],
       "shape": {
        "columns": 1,
        "rows": 2
       }
      },
      "text/plain": [
       "partner\n",
       "no     0.520412\n",
       "yes    0.479588\n",
       "Name: proportion, dtype: float64"
      ]
     },
     "execution_count": 30,
     "metadata": {},
     "output_type": "execute_result"
    }
   ],
   "source": [
    "# I will have a look at partner variable.\n",
    "customers_full_train.partner.value_counts(normalize = True)"
   ]
  },
  {
   "cell_type": "code",
   "execution_count": 31,
   "id": "fe6ef782",
   "metadata": {},
   "outputs": [
    {
     "data": {
      "text/plain": [
       "np.float64(0.20503330866025166)"
      ]
     },
     "execution_count": 31,
     "metadata": {},
     "output_type": "execute_result"
    }
   ],
   "source": [
    "churn_partner = customers_full_train[customers_full_train.partner == 'yes'].churn.mean()\n",
    "churn_partner"
   ]
  },
  {
   "cell_type": "code",
   "execution_count": 32,
   "id": "2c8651ab",
   "metadata": {},
   "outputs": [
    {
     "data": {
      "text/plain": [
       "np.float64(0.3298090040927694)"
      ]
     },
     "execution_count": 32,
     "metadata": {},
     "output_type": "execute_result"
    }
   ],
   "source": [
    "churn_no_partner = customers_full_train[customers_full_train.partner == 'no'].churn.mean()\n",
    "churn_no_partner"
   ]
  },
  {
   "cell_type": "code",
   "execution_count": 33,
   "id": "2d23e934",
   "metadata": {},
   "outputs": [
    {
     "data": {
      "text/plain": [
       "np.float64(0.06493474245795922)"
      ]
     },
     "execution_count": 33,
     "metadata": {},
     "output_type": "execute_result"
    }
   ],
   "source": [
    "global_churn_rate - churn_partner"
   ]
  },
  {
   "cell_type": "code",
   "execution_count": 34,
   "id": "8a98903c",
   "metadata": {},
   "outputs": [
    {
     "data": {
      "text/plain": [
       "np.float64(-0.05984095297455855)"
      ]
     },
     "execution_count": 34,
     "metadata": {},
     "output_type": "execute_result"
    }
   ],
   "source": [
    "global_churn_rate - churn_no_partner"
   ]
  },
  {
   "cell_type": "code",
   "execution_count": 35,
   "id": "83043197",
   "metadata": {},
   "outputs": [
    {
     "data": {
      "text/plain": [
       "np.float64(-0.006855983216553063)"
      ]
     },
     "execution_count": 35,
     "metadata": {},
     "output_type": "execute_result"
    }
   ],
   "source": [
    "global_churn_rate - churn_female"
   ]
  },
  {
   "cell_type": "markdown",
   "id": "06c50106",
   "metadata": {},
   "source": [
    "It is clear that the \"partner\" variable is more important than the \"gender\" variable since the difference between global churn and churn for the partner variable is larger. "
   ]
  },
  {
   "cell_type": "markdown",
   "id": "20e1379c",
   "metadata": {},
   "source": [
    "#### 1. Difference"
   ]
  },
  {
   "cell_type": "markdown",
   "id": "09788c51",
   "metadata": {},
   "source": [
    "One way of measuring feature importance is the \"difference\":\n",
    "Clobal churn - churn at the group level.\n",
    "If the difference is higher than 0, this means that this group is less likely to churn. But if the difference is negative, it means that the group is more likely to churn. Also, the larger difference, the more important feature. \n"
   ]
  },
  {
   "cell_type": "markdown",
   "id": "a697a541",
   "metadata": {},
   "source": [
    "#### 2. Risk ratio"
   ]
  },
  {
   "cell_type": "code",
   "execution_count": 36,
   "id": "352ffb4d",
   "metadata": {},
   "outputs": [
    {
     "data": {
      "text/plain": [
       "np.float64(1.2216593879412643)"
      ]
     },
     "execution_count": 36,
     "metadata": {},
     "output_type": "execute_result"
    }
   ],
   "source": [
    "churn_no_partner / global_churn_rate"
   ]
  },
  {
   "cell_type": "markdown",
   "id": "8b6650fe",
   "metadata": {},
   "source": [
    "This ratio is greater than 1. \n",
    "If risk ratio is more than one, this means that the group is more likely to churn. the group without partner is in higher risk of churning."
   ]
  },
  {
   "cell_type": "code",
   "execution_count": 37,
   "id": "fcb954f6",
   "metadata": {},
   "outputs": [
    {
     "data": {
      "text/plain": [
       "np.float64(0.7594724924338315)"
      ]
     },
     "execution_count": 37,
     "metadata": {},
     "output_type": "execute_result"
    }
   ],
   "source": [
    "churn_partner / global_churn_rate"
   ]
  },
  {
   "cell_type": "markdown",
   "id": "64771452",
   "metadata": {},
   "source": [
    "In SQL, we can use these commands to measure risk ratio for all variables. I will translate the SQL query to Pandas.\n",
    "\n",
    "<pre>SELECT\n",
    "    gender,\n",
    "    AVG(churn),\n",
    "    AVG(churn) - global_churn AS diff,\n",
    "    AVG(churn) / global_churn AS risk\n",
    "FROM\n",
    "    data\n",
    "GROUP BY\n",
    "    gender;</pre>"
   ]
  },
  {
   "cell_type": "code",
   "execution_count": 38,
   "id": "33cdab30",
   "metadata": {},
   "outputs": [
    {
     "data": {
      "application/vnd.microsoft.datawrangler.viewer.v0+json": {
       "columns": [
        {
         "name": "gender",
         "rawType": "object",
         "type": "string"
        },
        {
         "name": "mean",
         "rawType": "float64",
         "type": "float"
        },
        {
         "name": "count",
         "rawType": "int64",
         "type": "integer"
        }
       ],
       "ref": "c6b35201-184d-4ca8-92f1-d54e3e27e5f7",
       "rows": [
        [
         "female",
         "0.27682403433476394",
         "2796"
        ],
        [
         "male",
         "0.2632135306553911",
         "2838"
        ]
       ],
       "shape": {
        "columns": 2,
        "rows": 2
       }
      },
      "text/html": [
       "<div>\n",
       "<style scoped>\n",
       "    .dataframe tbody tr th:only-of-type {\n",
       "        vertical-align: middle;\n",
       "    }\n",
       "\n",
       "    .dataframe tbody tr th {\n",
       "        vertical-align: top;\n",
       "    }\n",
       "\n",
       "    .dataframe thead th {\n",
       "        text-align: right;\n",
       "    }\n",
       "</style>\n",
       "<table border=\"1\" class=\"dataframe\">\n",
       "  <thead>\n",
       "    <tr style=\"text-align: right;\">\n",
       "      <th></th>\n",
       "      <th>mean</th>\n",
       "      <th>count</th>\n",
       "    </tr>\n",
       "    <tr>\n",
       "      <th>gender</th>\n",
       "      <th></th>\n",
       "      <th></th>\n",
       "    </tr>\n",
       "  </thead>\n",
       "  <tbody>\n",
       "    <tr>\n",
       "      <th>female</th>\n",
       "      <td>0.276824</td>\n",
       "      <td>2796</td>\n",
       "    </tr>\n",
       "    <tr>\n",
       "      <th>male</th>\n",
       "      <td>0.263214</td>\n",
       "      <td>2838</td>\n",
       "    </tr>\n",
       "  </tbody>\n",
       "</table>\n",
       "</div>"
      ],
      "text/plain": [
       "            mean  count\n",
       "gender                 \n",
       "female  0.276824   2796\n",
       "male    0.263214   2838"
      ]
     },
     "execution_count": 38,
     "metadata": {},
     "output_type": "execute_result"
    }
   ],
   "source": [
    "customers_full_train.groupby('gender').churn.aggregate(['mean', 'count'])"
   ]
  },
  {
   "cell_type": "code",
   "execution_count": 39,
   "id": "fb23dbe1",
   "metadata": {},
   "outputs": [
    {
     "data": {
      "application/vnd.microsoft.datawrangler.viewer.v0+json": {
       "columns": [
        {
         "name": "gender",
         "rawType": "object",
         "type": "string"
        },
        {
         "name": "mean",
         "rawType": "float64",
         "type": "float"
        },
        {
         "name": "count",
         "rawType": "int64",
         "type": "integer"
        },
        {
         "name": "risk_ratio",
         "rawType": "float64",
         "type": "float"
        },
        {
         "name": "difference",
         "rawType": "float64",
         "type": "float"
        }
       ],
       "ref": "032339da-9541-45d1-ac2d-35be8b9552ca",
       "rows": [
        [
         "female",
         "0.27682403433476394",
         "2796",
         "1.0253955354648652",
         "0.006855983216553063"
        ],
        [
         "male",
         "0.2632135306553911",
         "2838",
         "0.9749802969838747",
         "-0.006754520462819769"
        ]
       ],
       "shape": {
        "columns": 4,
        "rows": 2
       }
      },
      "text/html": [
       "<div>\n",
       "<style scoped>\n",
       "    .dataframe tbody tr th:only-of-type {\n",
       "        vertical-align: middle;\n",
       "    }\n",
       "\n",
       "    .dataframe tbody tr th {\n",
       "        vertical-align: top;\n",
       "    }\n",
       "\n",
       "    .dataframe thead th {\n",
       "        text-align: right;\n",
       "    }\n",
       "</style>\n",
       "<table border=\"1\" class=\"dataframe\">\n",
       "  <thead>\n",
       "    <tr style=\"text-align: right;\">\n",
       "      <th></th>\n",
       "      <th>mean</th>\n",
       "      <th>count</th>\n",
       "      <th>risk_ratio</th>\n",
       "      <th>difference</th>\n",
       "    </tr>\n",
       "    <tr>\n",
       "      <th>gender</th>\n",
       "      <th></th>\n",
       "      <th></th>\n",
       "      <th></th>\n",
       "      <th></th>\n",
       "    </tr>\n",
       "  </thead>\n",
       "  <tbody>\n",
       "    <tr>\n",
       "      <th>female</th>\n",
       "      <td>0.276824</td>\n",
       "      <td>2796</td>\n",
       "      <td>1.025396</td>\n",
       "      <td>0.006856</td>\n",
       "    </tr>\n",
       "    <tr>\n",
       "      <th>male</th>\n",
       "      <td>0.263214</td>\n",
       "      <td>2838</td>\n",
       "      <td>0.974980</td>\n",
       "      <td>-0.006755</td>\n",
       "    </tr>\n",
       "  </tbody>\n",
       "</table>\n",
       "</div>"
      ],
      "text/plain": [
       "            mean  count  risk_ratio  difference\n",
       "gender                                         \n",
       "female  0.276824   2796    1.025396    0.006856\n",
       "male    0.263214   2838    0.974980   -0.006755"
      ]
     },
     "execution_count": 39,
     "metadata": {},
     "output_type": "execute_result"
    }
   ],
   "source": [
    "customers_group = customers_full_train.groupby('gender').churn.aggregate(['mean', 'count'])\n",
    "customers_group['risk_ratio'] = customers_group['mean'] / global_churn_rate\n",
    "customers_group['difference'] = customers_group['mean'] - global_churn_rate\n",
    "customers_group"
   ]
  },
  {
   "cell_type": "code",
   "execution_count": 40,
   "id": "ae481245",
   "metadata": {},
   "outputs": [],
   "source": [
    "from IPython.display import display"
   ]
  },
  {
   "cell_type": "code",
   "execution_count": 41,
   "id": "d551b0d8",
   "metadata": {},
   "outputs": [
    {
     "name": "stdout",
     "output_type": "stream",
     "text": [
      "customerid\n"
     ]
    },
    {
     "data": {
      "application/vnd.microsoft.datawrangler.viewer.v0+json": {
       "columns": [
        {
         "name": "customerid",
         "rawType": "object",
         "type": "string"
        },
        {
         "name": "mean",
         "rawType": "float64",
         "type": "float"
        },
        {
         "name": "count",
         "rawType": "int64",
         "type": "integer"
        },
        {
         "name": "risk_ratio",
         "rawType": "float64",
         "type": "float"
        },
        {
         "name": "difference",
         "rawType": "float64",
         "type": "float"
        }
       ],
       "ref": "348d3138-07c6-498e-a686-5e80879cb70d",
       "rows": [
        [
         "0002-orfbo",
         "0.0",
         "1",
         "0.0",
         "-0.26996805111821087"
        ],
        [
         "0004-tlhlj",
         "1.0",
         "1",
         "3.7041420118343193",
         "0.7300319488817891"
        ],
        [
         "0011-igkff",
         "1.0",
         "1",
         "3.7041420118343193",
         "0.7300319488817891"
        ],
        [
         "0013-exchz",
         "1.0",
         "1",
         "3.7041420118343193",
         "0.7300319488817891"
        ],
        [
         "0013-mhzwf",
         "0.0",
         "1",
         "0.0",
         "-0.26996805111821087"
        ],
        [
         "0013-smeoe",
         "0.0",
         "1",
         "0.0",
         "-0.26996805111821087"
        ],
        [
         "0014-bmaqu",
         "0.0",
         "1",
         "0.0",
         "-0.26996805111821087"
        ],
        [
         "0015-uocoj",
         "0.0",
         "1",
         "0.0",
         "-0.26996805111821087"
        ],
        [
         "0017-dinoc",
         "0.0",
         "1",
         "0.0",
         "-0.26996805111821087"
        ],
        [
         "0018-nyrou",
         "0.0",
         "1",
         "0.0",
         "-0.26996805111821087"
        ],
        [
         "0019-efaep",
         "0.0",
         "1",
         "0.0",
         "-0.26996805111821087"
        ],
        [
         "0020-inwck",
         "0.0",
         "1",
         "0.0",
         "-0.26996805111821087"
        ],
        [
         "0020-jdnxp",
         "0.0",
         "1",
         "0.0",
         "-0.26996805111821087"
        ],
        [
         "0021-ikxgc",
         "0.0",
         "1",
         "0.0",
         "-0.26996805111821087"
        ],
        [
         "0023-uyupn",
         "0.0",
         "1",
         "0.0",
         "-0.26996805111821087"
        ],
        [
         "0023-xuopt",
         "1.0",
         "1",
         "3.7041420118343193",
         "0.7300319488817891"
        ],
        [
         "0027-kwykw",
         "0.0",
         "1",
         "0.0",
         "-0.26996805111821087"
        ],
        [
         "0030-fnxpp",
         "0.0",
         "1",
         "0.0",
         "-0.26996805111821087"
        ],
        [
         "0031-pvlzi",
         "1.0",
         "1",
         "3.7041420118343193",
         "0.7300319488817891"
        ],
        [
         "0036-ihmot",
         "0.0",
         "1",
         "0.0",
         "-0.26996805111821087"
        ],
        [
         "0042-jvwoj",
         "0.0",
         "1",
         "0.0",
         "-0.26996805111821087"
        ],
        [
         "0042-rlhyp",
         "0.0",
         "1",
         "0.0",
         "-0.26996805111821087"
        ],
        [
         "0048-lumls",
         "0.0",
         "1",
         "0.0",
         "-0.26996805111821087"
        ],
        [
         "0048-pihnl",
         "0.0",
         "1",
         "0.0",
         "-0.26996805111821087"
        ],
        [
         "0052-dckon",
         "0.0",
         "1",
         "0.0",
         "-0.26996805111821087"
        ],
        [
         "0056-epfbg",
         "0.0",
         "1",
         "0.0",
         "-0.26996805111821087"
        ],
        [
         "0057-qbuqh",
         "0.0",
         "1",
         "0.0",
         "-0.26996805111821087"
        ],
        [
         "0060-fualy",
         "0.0",
         "1",
         "0.0",
         "-0.26996805111821087"
        ],
        [
         "0064-sudog",
         "0.0",
         "1",
         "0.0",
         "-0.26996805111821087"
        ],
        [
         "0068-figtf",
         "0.0",
         "1",
         "0.0",
         "-0.26996805111821087"
        ],
        [
         "0071-ndafp",
         "0.0",
         "1",
         "0.0",
         "-0.26996805111821087"
        ],
        [
         "0078-xzmht",
         "0.0",
         "1",
         "0.0",
         "-0.26996805111821087"
        ],
        [
         "0080-emyvy",
         "0.0",
         "1",
         "0.0",
         "-0.26996805111821087"
        ],
        [
         "0080-orozo",
         "0.0",
         "1",
         "0.0",
         "-0.26996805111821087"
        ],
        [
         "0082-ldzue",
         "0.0",
         "1",
         "0.0",
         "-0.26996805111821087"
        ],
        [
         "0082-oqiqy",
         "0.0",
         "1",
         "0.0",
         "-0.26996805111821087"
        ],
        [
         "0083-pivik",
         "0.0",
         "1",
         "0.0",
         "-0.26996805111821087"
        ],
        [
         "0093-exyql",
         "0.0",
         "1",
         "0.0",
         "-0.26996805111821087"
        ],
        [
         "0093-xwzfy",
         "1.0",
         "1",
         "3.7041420118343193",
         "0.7300319488817891"
        ],
        [
         "0094-oifmo",
         "1.0",
         "1",
         "3.7041420118343193",
         "0.7300319488817891"
        ],
        [
         "0096-bxers",
         "0.0",
         "1",
         "0.0",
         "-0.26996805111821087"
        ],
        [
         "0096-fcpuf",
         "0.0",
         "1",
         "0.0",
         "-0.26996805111821087"
        ],
        [
         "0098-bowso",
         "0.0",
         "1",
         "0.0",
         "-0.26996805111821087"
        ],
        [
         "0100-duvfc",
         "0.0",
         "1",
         "0.0",
         "-0.26996805111821087"
        ],
        [
         "0103-csitq",
         "0.0",
         "1",
         "0.0",
         "-0.26996805111821087"
        ],
        [
         "0104-ppxdv",
         "0.0",
         "1",
         "0.0",
         "-0.26996805111821087"
        ],
        [
         "0106-ghrqr",
         "0.0",
         "1",
         "0.0",
         "-0.26996805111821087"
        ],
        [
         "0106-ugrdo",
         "0.0",
         "1",
         "0.0",
         "-0.26996805111821087"
        ],
        [
         "0107-weslm",
         "1.0",
         "1",
         "3.7041420118343193",
         "0.7300319488817891"
        ],
        [
         "0107-yhina",
         "1.0",
         "1",
         "3.7041420118343193",
         "0.7300319488817891"
        ]
       ],
       "shape": {
        "columns": 4,
        "rows": 5634
       }
      },
      "text/html": [
       "<div>\n",
       "<style scoped>\n",
       "    .dataframe tbody tr th:only-of-type {\n",
       "        vertical-align: middle;\n",
       "    }\n",
       "\n",
       "    .dataframe tbody tr th {\n",
       "        vertical-align: top;\n",
       "    }\n",
       "\n",
       "    .dataframe thead th {\n",
       "        text-align: right;\n",
       "    }\n",
       "</style>\n",
       "<table border=\"1\" class=\"dataframe\">\n",
       "  <thead>\n",
       "    <tr style=\"text-align: right;\">\n",
       "      <th></th>\n",
       "      <th>mean</th>\n",
       "      <th>count</th>\n",
       "      <th>risk_ratio</th>\n",
       "      <th>difference</th>\n",
       "    </tr>\n",
       "    <tr>\n",
       "      <th>customerid</th>\n",
       "      <th></th>\n",
       "      <th></th>\n",
       "      <th></th>\n",
       "      <th></th>\n",
       "    </tr>\n",
       "  </thead>\n",
       "  <tbody>\n",
       "    <tr>\n",
       "      <th>0002-orfbo</th>\n",
       "      <td>0.0</td>\n",
       "      <td>1</td>\n",
       "      <td>0.000000</td>\n",
       "      <td>-0.269968</td>\n",
       "    </tr>\n",
       "    <tr>\n",
       "      <th>0004-tlhlj</th>\n",
       "      <td>1.0</td>\n",
       "      <td>1</td>\n",
       "      <td>3.704142</td>\n",
       "      <td>0.730032</td>\n",
       "    </tr>\n",
       "    <tr>\n",
       "      <th>0011-igkff</th>\n",
       "      <td>1.0</td>\n",
       "      <td>1</td>\n",
       "      <td>3.704142</td>\n",
       "      <td>0.730032</td>\n",
       "    </tr>\n",
       "    <tr>\n",
       "      <th>0013-exchz</th>\n",
       "      <td>1.0</td>\n",
       "      <td>1</td>\n",
       "      <td>3.704142</td>\n",
       "      <td>0.730032</td>\n",
       "    </tr>\n",
       "    <tr>\n",
       "      <th>0013-mhzwf</th>\n",
       "      <td>0.0</td>\n",
       "      <td>1</td>\n",
       "      <td>0.000000</td>\n",
       "      <td>-0.269968</td>\n",
       "    </tr>\n",
       "    <tr>\n",
       "      <th>...</th>\n",
       "      <td>...</td>\n",
       "      <td>...</td>\n",
       "      <td>...</td>\n",
       "      <td>...</td>\n",
       "    </tr>\n",
       "    <tr>\n",
       "      <th>9987-lutyd</th>\n",
       "      <td>0.0</td>\n",
       "      <td>1</td>\n",
       "      <td>0.000000</td>\n",
       "      <td>-0.269968</td>\n",
       "    </tr>\n",
       "    <tr>\n",
       "      <th>9992-rramn</th>\n",
       "      <td>1.0</td>\n",
       "      <td>1</td>\n",
       "      <td>3.704142</td>\n",
       "      <td>0.730032</td>\n",
       "    </tr>\n",
       "    <tr>\n",
       "      <th>9992-ujoel</th>\n",
       "      <td>0.0</td>\n",
       "      <td>1</td>\n",
       "      <td>0.000000</td>\n",
       "      <td>-0.269968</td>\n",
       "    </tr>\n",
       "    <tr>\n",
       "      <th>9993-lhieb</th>\n",
       "      <td>0.0</td>\n",
       "      <td>1</td>\n",
       "      <td>0.000000</td>\n",
       "      <td>-0.269968</td>\n",
       "    </tr>\n",
       "    <tr>\n",
       "      <th>9995-hotoh</th>\n",
       "      <td>0.0</td>\n",
       "      <td>1</td>\n",
       "      <td>0.000000</td>\n",
       "      <td>-0.269968</td>\n",
       "    </tr>\n",
       "  </tbody>\n",
       "</table>\n",
       "<p>5634 rows × 4 columns</p>\n",
       "</div>"
      ],
      "text/plain": [
       "            mean  count  risk_ratio  difference\n",
       "customerid                                     \n",
       "0002-orfbo   0.0      1    0.000000   -0.269968\n",
       "0004-tlhlj   1.0      1    3.704142    0.730032\n",
       "0011-igkff   1.0      1    3.704142    0.730032\n",
       "0013-exchz   1.0      1    3.704142    0.730032\n",
       "0013-mhzwf   0.0      1    0.000000   -0.269968\n",
       "...          ...    ...         ...         ...\n",
       "9987-lutyd   0.0      1    0.000000   -0.269968\n",
       "9992-rramn   1.0      1    3.704142    0.730032\n",
       "9992-ujoel   0.0      1    0.000000   -0.269968\n",
       "9993-lhieb   0.0      1    0.000000   -0.269968\n",
       "9995-hotoh   0.0      1    0.000000   -0.269968\n",
       "\n",
       "[5634 rows x 4 columns]"
      ]
     },
     "metadata": {},
     "output_type": "display_data"
    },
    {
     "name": "stdout",
     "output_type": "stream",
     "text": [
      "\n",
      "gender\n"
     ]
    },
    {
     "data": {
      "application/vnd.microsoft.datawrangler.viewer.v0+json": {
       "columns": [
        {
         "name": "gender",
         "rawType": "object",
         "type": "string"
        },
        {
         "name": "mean",
         "rawType": "float64",
         "type": "float"
        },
        {
         "name": "count",
         "rawType": "int64",
         "type": "integer"
        },
        {
         "name": "risk_ratio",
         "rawType": "float64",
         "type": "float"
        },
        {
         "name": "difference",
         "rawType": "float64",
         "type": "float"
        }
       ],
       "ref": "1413c7f8-6eec-46d3-98e5-0bbe74a9ef5c",
       "rows": [
        [
         "female",
         "0.27682403433476394",
         "2796",
         "1.0253955354648652",
         "0.006855983216553063"
        ],
        [
         "male",
         "0.2632135306553911",
         "2838",
         "0.9749802969838747",
         "-0.006754520462819769"
        ]
       ],
       "shape": {
        "columns": 4,
        "rows": 2
       }
      },
      "text/html": [
       "<div>\n",
       "<style scoped>\n",
       "    .dataframe tbody tr th:only-of-type {\n",
       "        vertical-align: middle;\n",
       "    }\n",
       "\n",
       "    .dataframe tbody tr th {\n",
       "        vertical-align: top;\n",
       "    }\n",
       "\n",
       "    .dataframe thead th {\n",
       "        text-align: right;\n",
       "    }\n",
       "</style>\n",
       "<table border=\"1\" class=\"dataframe\">\n",
       "  <thead>\n",
       "    <tr style=\"text-align: right;\">\n",
       "      <th></th>\n",
       "      <th>mean</th>\n",
       "      <th>count</th>\n",
       "      <th>risk_ratio</th>\n",
       "      <th>difference</th>\n",
       "    </tr>\n",
       "    <tr>\n",
       "      <th>gender</th>\n",
       "      <th></th>\n",
       "      <th></th>\n",
       "      <th></th>\n",
       "      <th></th>\n",
       "    </tr>\n",
       "  </thead>\n",
       "  <tbody>\n",
       "    <tr>\n",
       "      <th>female</th>\n",
       "      <td>0.276824</td>\n",
       "      <td>2796</td>\n",
       "      <td>1.025396</td>\n",
       "      <td>0.006856</td>\n",
       "    </tr>\n",
       "    <tr>\n",
       "      <th>male</th>\n",
       "      <td>0.263214</td>\n",
       "      <td>2838</td>\n",
       "      <td>0.974980</td>\n",
       "      <td>-0.006755</td>\n",
       "    </tr>\n",
       "  </tbody>\n",
       "</table>\n",
       "</div>"
      ],
      "text/plain": [
       "            mean  count  risk_ratio  difference\n",
       "gender                                         \n",
       "female  0.276824   2796    1.025396    0.006856\n",
       "male    0.263214   2838    0.974980   -0.006755"
      ]
     },
     "metadata": {},
     "output_type": "display_data"
    },
    {
     "name": "stdout",
     "output_type": "stream",
     "text": [
      "\n",
      "partner\n"
     ]
    },
    {
     "data": {
      "application/vnd.microsoft.datawrangler.viewer.v0+json": {
       "columns": [
        {
         "name": "partner",
         "rawType": "object",
         "type": "string"
        },
        {
         "name": "mean",
         "rawType": "float64",
         "type": "float"
        },
        {
         "name": "count",
         "rawType": "int64",
         "type": "integer"
        },
        {
         "name": "risk_ratio",
         "rawType": "float64",
         "type": "float"
        },
        {
         "name": "difference",
         "rawType": "float64",
         "type": "float"
        }
       ],
       "ref": "77287cb2-f10b-47ca-bb30-850196a2294f",
       "rows": [
        [
         "no",
         "0.3298090040927694",
         "2932",
         "1.2216593879412643",
         "0.05984095297455855"
        ],
        [
         "yes",
         "0.20503330866025166",
         "2702",
         "0.7594724924338315",
         "-0.06493474245795922"
        ]
       ],
       "shape": {
        "columns": 4,
        "rows": 2
       }
      },
      "text/html": [
       "<div>\n",
       "<style scoped>\n",
       "    .dataframe tbody tr th:only-of-type {\n",
       "        vertical-align: middle;\n",
       "    }\n",
       "\n",
       "    .dataframe tbody tr th {\n",
       "        vertical-align: top;\n",
       "    }\n",
       "\n",
       "    .dataframe thead th {\n",
       "        text-align: right;\n",
       "    }\n",
       "</style>\n",
       "<table border=\"1\" class=\"dataframe\">\n",
       "  <thead>\n",
       "    <tr style=\"text-align: right;\">\n",
       "      <th></th>\n",
       "      <th>mean</th>\n",
       "      <th>count</th>\n",
       "      <th>risk_ratio</th>\n",
       "      <th>difference</th>\n",
       "    </tr>\n",
       "    <tr>\n",
       "      <th>partner</th>\n",
       "      <th></th>\n",
       "      <th></th>\n",
       "      <th></th>\n",
       "      <th></th>\n",
       "    </tr>\n",
       "  </thead>\n",
       "  <tbody>\n",
       "    <tr>\n",
       "      <th>no</th>\n",
       "      <td>0.329809</td>\n",
       "      <td>2932</td>\n",
       "      <td>1.221659</td>\n",
       "      <td>0.059841</td>\n",
       "    </tr>\n",
       "    <tr>\n",
       "      <th>yes</th>\n",
       "      <td>0.205033</td>\n",
       "      <td>2702</td>\n",
       "      <td>0.759472</td>\n",
       "      <td>-0.064935</td>\n",
       "    </tr>\n",
       "  </tbody>\n",
       "</table>\n",
       "</div>"
      ],
      "text/plain": [
       "             mean  count  risk_ratio  difference\n",
       "partner                                         \n",
       "no       0.329809   2932    1.221659    0.059841\n",
       "yes      0.205033   2702    0.759472   -0.064935"
      ]
     },
     "metadata": {},
     "output_type": "display_data"
    },
    {
     "name": "stdout",
     "output_type": "stream",
     "text": [
      "\n",
      "dependents\n"
     ]
    },
    {
     "data": {
      "application/vnd.microsoft.datawrangler.viewer.v0+json": {
       "columns": [
        {
         "name": "dependents",
         "rawType": "object",
         "type": "string"
        },
        {
         "name": "mean",
         "rawType": "float64",
         "type": "float"
        },
        {
         "name": "count",
         "rawType": "int64",
         "type": "integer"
        },
        {
         "name": "risk_ratio",
         "rawType": "float64",
         "type": "float"
        },
        {
         "name": "difference",
         "rawType": "float64",
         "type": "float"
        }
       ],
       "ref": "66eac343-79ee-4f4d-85bd-a54facf64de8",
       "rows": [
        [
         "no",
         "0.3137600806451613",
         "3968",
         "1.162211896354266",
         "0.04379202952695044"
        ],
        [
         "yes",
         "0.16566626650660263",
         "1666",
         "0.6136513777108475",
         "-0.10430178461160824"
        ]
       ],
       "shape": {
        "columns": 4,
        "rows": 2
       }
      },
      "text/html": [
       "<div>\n",
       "<style scoped>\n",
       "    .dataframe tbody tr th:only-of-type {\n",
       "        vertical-align: middle;\n",
       "    }\n",
       "\n",
       "    .dataframe tbody tr th {\n",
       "        vertical-align: top;\n",
       "    }\n",
       "\n",
       "    .dataframe thead th {\n",
       "        text-align: right;\n",
       "    }\n",
       "</style>\n",
       "<table border=\"1\" class=\"dataframe\">\n",
       "  <thead>\n",
       "    <tr style=\"text-align: right;\">\n",
       "      <th></th>\n",
       "      <th>mean</th>\n",
       "      <th>count</th>\n",
       "      <th>risk_ratio</th>\n",
       "      <th>difference</th>\n",
       "    </tr>\n",
       "    <tr>\n",
       "      <th>dependents</th>\n",
       "      <th></th>\n",
       "      <th></th>\n",
       "      <th></th>\n",
       "      <th></th>\n",
       "    </tr>\n",
       "  </thead>\n",
       "  <tbody>\n",
       "    <tr>\n",
       "      <th>no</th>\n",
       "      <td>0.313760</td>\n",
       "      <td>3968</td>\n",
       "      <td>1.162212</td>\n",
       "      <td>0.043792</td>\n",
       "    </tr>\n",
       "    <tr>\n",
       "      <th>yes</th>\n",
       "      <td>0.165666</td>\n",
       "      <td>1666</td>\n",
       "      <td>0.613651</td>\n",
       "      <td>-0.104302</td>\n",
       "    </tr>\n",
       "  </tbody>\n",
       "</table>\n",
       "</div>"
      ],
      "text/plain": [
       "                mean  count  risk_ratio  difference\n",
       "dependents                                         \n",
       "no          0.313760   3968    1.162212    0.043792\n",
       "yes         0.165666   1666    0.613651   -0.104302"
      ]
     },
     "metadata": {},
     "output_type": "display_data"
    },
    {
     "name": "stdout",
     "output_type": "stream",
     "text": [
      "\n",
      "phoneservice\n"
     ]
    },
    {
     "data": {
      "application/vnd.microsoft.datawrangler.viewer.v0+json": {
       "columns": [
        {
         "name": "phoneservice",
         "rawType": "object",
         "type": "string"
        },
        {
         "name": "mean",
         "rawType": "float64",
         "type": "float"
        },
        {
         "name": "count",
         "rawType": "int64",
         "type": "integer"
        },
        {
         "name": "risk_ratio",
         "rawType": "float64",
         "type": "float"
        },
        {
         "name": "difference",
         "rawType": "float64",
         "type": "float"
        }
       ],
       "ref": "0ebe3408-0e2c-402d-9bfe-d69fb759aab0",
       "rows": [
        [
         "no",
         "0.2413162705667276",
         "547",
         "0.8938697359453933",
         "-0.028651780551483264"
        ],
        [
         "yes",
         "0.2730489482995872",
         "5087",
         "1.011412080683678",
         "0.0030808971813763297"
        ]
       ],
       "shape": {
        "columns": 4,
        "rows": 2
       }
      },
      "text/html": [
       "<div>\n",
       "<style scoped>\n",
       "    .dataframe tbody tr th:only-of-type {\n",
       "        vertical-align: middle;\n",
       "    }\n",
       "\n",
       "    .dataframe tbody tr th {\n",
       "        vertical-align: top;\n",
       "    }\n",
       "\n",
       "    .dataframe thead th {\n",
       "        text-align: right;\n",
       "    }\n",
       "</style>\n",
       "<table border=\"1\" class=\"dataframe\">\n",
       "  <thead>\n",
       "    <tr style=\"text-align: right;\">\n",
       "      <th></th>\n",
       "      <th>mean</th>\n",
       "      <th>count</th>\n",
       "      <th>risk_ratio</th>\n",
       "      <th>difference</th>\n",
       "    </tr>\n",
       "    <tr>\n",
       "      <th>phoneservice</th>\n",
       "      <th></th>\n",
       "      <th></th>\n",
       "      <th></th>\n",
       "      <th></th>\n",
       "    </tr>\n",
       "  </thead>\n",
       "  <tbody>\n",
       "    <tr>\n",
       "      <th>no</th>\n",
       "      <td>0.241316</td>\n",
       "      <td>547</td>\n",
       "      <td>0.893870</td>\n",
       "      <td>-0.028652</td>\n",
       "    </tr>\n",
       "    <tr>\n",
       "      <th>yes</th>\n",
       "      <td>0.273049</td>\n",
       "      <td>5087</td>\n",
       "      <td>1.011412</td>\n",
       "      <td>0.003081</td>\n",
       "    </tr>\n",
       "  </tbody>\n",
       "</table>\n",
       "</div>"
      ],
      "text/plain": [
       "                  mean  count  risk_ratio  difference\n",
       "phoneservice                                         \n",
       "no            0.241316    547    0.893870   -0.028652\n",
       "yes           0.273049   5087    1.011412    0.003081"
      ]
     },
     "metadata": {},
     "output_type": "display_data"
    },
    {
     "name": "stdout",
     "output_type": "stream",
     "text": [
      "\n",
      "multiplelines\n"
     ]
    },
    {
     "data": {
      "application/vnd.microsoft.datawrangler.viewer.v0+json": {
       "columns": [
        {
         "name": "multiplelines",
         "rawType": "object",
         "type": "string"
        },
        {
         "name": "mean",
         "rawType": "float64",
         "type": "float"
        },
        {
         "name": "count",
         "rawType": "int64",
         "type": "integer"
        },
        {
         "name": "risk_ratio",
         "rawType": "float64",
         "type": "float"
        },
        {
         "name": "difference",
         "rawType": "float64",
         "type": "float"
        }
       ],
       "ref": "79bb38d3-ae31-4dbe-b0e9-60da967807f6",
       "rows": [
        [
         "no",
         "0.2574074074074074",
         "2700",
         "0.9534735919351304",
         "-0.012560643710803454"
        ],
        [
         "no_phone_service",
         "0.2413162705667276",
         "547",
         "0.8938697359453933",
         "-0.028651780551483264"
        ],
        [
         "yes",
         "0.29074151654796815",
         "2387",
         "1.0769478660297518",
         "0.020773465429757276"
        ]
       ],
       "shape": {
        "columns": 4,
        "rows": 3
       }
      },
      "text/html": [
       "<div>\n",
       "<style scoped>\n",
       "    .dataframe tbody tr th:only-of-type {\n",
       "        vertical-align: middle;\n",
       "    }\n",
       "\n",
       "    .dataframe tbody tr th {\n",
       "        vertical-align: top;\n",
       "    }\n",
       "\n",
       "    .dataframe thead th {\n",
       "        text-align: right;\n",
       "    }\n",
       "</style>\n",
       "<table border=\"1\" class=\"dataframe\">\n",
       "  <thead>\n",
       "    <tr style=\"text-align: right;\">\n",
       "      <th></th>\n",
       "      <th>mean</th>\n",
       "      <th>count</th>\n",
       "      <th>risk_ratio</th>\n",
       "      <th>difference</th>\n",
       "    </tr>\n",
       "    <tr>\n",
       "      <th>multiplelines</th>\n",
       "      <th></th>\n",
       "      <th></th>\n",
       "      <th></th>\n",
       "      <th></th>\n",
       "    </tr>\n",
       "  </thead>\n",
       "  <tbody>\n",
       "    <tr>\n",
       "      <th>no</th>\n",
       "      <td>0.257407</td>\n",
       "      <td>2700</td>\n",
       "      <td>0.953474</td>\n",
       "      <td>-0.012561</td>\n",
       "    </tr>\n",
       "    <tr>\n",
       "      <th>no_phone_service</th>\n",
       "      <td>0.241316</td>\n",
       "      <td>547</td>\n",
       "      <td>0.893870</td>\n",
       "      <td>-0.028652</td>\n",
       "    </tr>\n",
       "    <tr>\n",
       "      <th>yes</th>\n",
       "      <td>0.290742</td>\n",
       "      <td>2387</td>\n",
       "      <td>1.076948</td>\n",
       "      <td>0.020773</td>\n",
       "    </tr>\n",
       "  </tbody>\n",
       "</table>\n",
       "</div>"
      ],
      "text/plain": [
       "                      mean  count  risk_ratio  difference\n",
       "multiplelines                                            \n",
       "no                0.257407   2700    0.953474   -0.012561\n",
       "no_phone_service  0.241316    547    0.893870   -0.028652\n",
       "yes               0.290742   2387    1.076948    0.020773"
      ]
     },
     "metadata": {},
     "output_type": "display_data"
    },
    {
     "name": "stdout",
     "output_type": "stream",
     "text": [
      "\n",
      "internetservice\n"
     ]
    },
    {
     "data": {
      "application/vnd.microsoft.datawrangler.viewer.v0+json": {
       "columns": [
        {
         "name": "internetservice",
         "rawType": "object",
         "type": "string"
        },
        {
         "name": "mean",
         "rawType": "float64",
         "type": "float"
        },
        {
         "name": "count",
         "rawType": "int64",
         "type": "integer"
        },
        {
         "name": "risk_ratio",
         "rawType": "float64",
         "type": "float"
        },
        {
         "name": "difference",
         "rawType": "float64",
         "type": "float"
        }
       ],
       "ref": "c5c16e6f-4684-4c3e-bc2f-cda6bdf9e9c4",
       "rows": [
        [
         "dsl",
         "0.1923474663908997",
         "1934",
         "0.7124823311284213",
         "-0.07762058472731118"
        ],
        [
         "fiber_optic",
         "0.42517144009681324",
         "2479",
         "1.5748953934947045",
         "0.15520338897860236"
        ],
        [
         "no",
         "0.07780507780507781",
         "1221",
         "0.28820105743182667",
         "-0.19216297331313306"
        ]
       ],
       "shape": {
        "columns": 4,
        "rows": 3
       }
      },
      "text/html": [
       "<div>\n",
       "<style scoped>\n",
       "    .dataframe tbody tr th:only-of-type {\n",
       "        vertical-align: middle;\n",
       "    }\n",
       "\n",
       "    .dataframe tbody tr th {\n",
       "        vertical-align: top;\n",
       "    }\n",
       "\n",
       "    .dataframe thead th {\n",
       "        text-align: right;\n",
       "    }\n",
       "</style>\n",
       "<table border=\"1\" class=\"dataframe\">\n",
       "  <thead>\n",
       "    <tr style=\"text-align: right;\">\n",
       "      <th></th>\n",
       "      <th>mean</th>\n",
       "      <th>count</th>\n",
       "      <th>risk_ratio</th>\n",
       "      <th>difference</th>\n",
       "    </tr>\n",
       "    <tr>\n",
       "      <th>internetservice</th>\n",
       "      <th></th>\n",
       "      <th></th>\n",
       "      <th></th>\n",
       "      <th></th>\n",
       "    </tr>\n",
       "  </thead>\n",
       "  <tbody>\n",
       "    <tr>\n",
       "      <th>dsl</th>\n",
       "      <td>0.192347</td>\n",
       "      <td>1934</td>\n",
       "      <td>0.712482</td>\n",
       "      <td>-0.077621</td>\n",
       "    </tr>\n",
       "    <tr>\n",
       "      <th>fiber_optic</th>\n",
       "      <td>0.425171</td>\n",
       "      <td>2479</td>\n",
       "      <td>1.574895</td>\n",
       "      <td>0.155203</td>\n",
       "    </tr>\n",
       "    <tr>\n",
       "      <th>no</th>\n",
       "      <td>0.077805</td>\n",
       "      <td>1221</td>\n",
       "      <td>0.288201</td>\n",
       "      <td>-0.192163</td>\n",
       "    </tr>\n",
       "  </tbody>\n",
       "</table>\n",
       "</div>"
      ],
      "text/plain": [
       "                     mean  count  risk_ratio  difference\n",
       "internetservice                                         \n",
       "dsl              0.192347   1934    0.712482   -0.077621\n",
       "fiber_optic      0.425171   2479    1.574895    0.155203\n",
       "no               0.077805   1221    0.288201   -0.192163"
      ]
     },
     "metadata": {},
     "output_type": "display_data"
    },
    {
     "name": "stdout",
     "output_type": "stream",
     "text": [
      "\n",
      "onlinesecurity\n"
     ]
    },
    {
     "data": {
      "application/vnd.microsoft.datawrangler.viewer.v0+json": {
       "columns": [
        {
         "name": "onlinesecurity",
         "rawType": "object",
         "type": "string"
        },
        {
         "name": "mean",
         "rawType": "float64",
         "type": "float"
        },
        {
         "name": "count",
         "rawType": "int64",
         "type": "integer"
        },
        {
         "name": "risk_ratio",
         "rawType": "float64",
         "type": "float"
        },
        {
         "name": "difference",
         "rawType": "float64",
         "type": "float"
        }
       ],
       "ref": "0251e1e3-a063-4ebb-8eac-ccbbd705d9be",
       "rows": [
        [
         "no",
         "0.42092109960728313",
         "2801",
         "1.5591515287228357",
         "0.15095304848907226"
        ],
        [
         "no_internet_service",
         "0.07780507780507781",
         "1221",
         "0.28820105743182667",
         "-0.19216297331313306"
        ],
        [
         "yes",
         "0.1532258064516129",
         "1612",
         "0.5675701469746135",
         "-0.11674224466659797"
        ]
       ],
       "shape": {
        "columns": 4,
        "rows": 3
       }
      },
      "text/html": [
       "<div>\n",
       "<style scoped>\n",
       "    .dataframe tbody tr th:only-of-type {\n",
       "        vertical-align: middle;\n",
       "    }\n",
       "\n",
       "    .dataframe tbody tr th {\n",
       "        vertical-align: top;\n",
       "    }\n",
       "\n",
       "    .dataframe thead th {\n",
       "        text-align: right;\n",
       "    }\n",
       "</style>\n",
       "<table border=\"1\" class=\"dataframe\">\n",
       "  <thead>\n",
       "    <tr style=\"text-align: right;\">\n",
       "      <th></th>\n",
       "      <th>mean</th>\n",
       "      <th>count</th>\n",
       "      <th>risk_ratio</th>\n",
       "      <th>difference</th>\n",
       "    </tr>\n",
       "    <tr>\n",
       "      <th>onlinesecurity</th>\n",
       "      <th></th>\n",
       "      <th></th>\n",
       "      <th></th>\n",
       "      <th></th>\n",
       "    </tr>\n",
       "  </thead>\n",
       "  <tbody>\n",
       "    <tr>\n",
       "      <th>no</th>\n",
       "      <td>0.420921</td>\n",
       "      <td>2801</td>\n",
       "      <td>1.559152</td>\n",
       "      <td>0.150953</td>\n",
       "    </tr>\n",
       "    <tr>\n",
       "      <th>no_internet_service</th>\n",
       "      <td>0.077805</td>\n",
       "      <td>1221</td>\n",
       "      <td>0.288201</td>\n",
       "      <td>-0.192163</td>\n",
       "    </tr>\n",
       "    <tr>\n",
       "      <th>yes</th>\n",
       "      <td>0.153226</td>\n",
       "      <td>1612</td>\n",
       "      <td>0.567570</td>\n",
       "      <td>-0.116742</td>\n",
       "    </tr>\n",
       "  </tbody>\n",
       "</table>\n",
       "</div>"
      ],
      "text/plain": [
       "                         mean  count  risk_ratio  difference\n",
       "onlinesecurity                                              \n",
       "no                   0.420921   2801    1.559152    0.150953\n",
       "no_internet_service  0.077805   1221    0.288201   -0.192163\n",
       "yes                  0.153226   1612    0.567570   -0.116742"
      ]
     },
     "metadata": {},
     "output_type": "display_data"
    },
    {
     "name": "stdout",
     "output_type": "stream",
     "text": [
      "\n",
      "onlinebackup\n"
     ]
    },
    {
     "data": {
      "application/vnd.microsoft.datawrangler.viewer.v0+json": {
       "columns": [
        {
         "name": "onlinebackup",
         "rawType": "object",
         "type": "string"
        },
        {
         "name": "mean",
         "rawType": "float64",
         "type": "float"
        },
        {
         "name": "count",
         "rawType": "int64",
         "type": "integer"
        },
        {
         "name": "risk_ratio",
         "rawType": "float64",
         "type": "float"
        },
        {
         "name": "difference",
         "rawType": "float64",
         "type": "float"
        }
       ],
       "ref": "6bd66d0a-4676-4b85-b4b6-e24f8c28cb00",
       "rows": [
        [
         "no",
         "0.4043234587670136",
         "2498",
         "1.4976715099890563",
         "0.13435540764880272"
        ],
        [
         "no_internet_service",
         "0.07780507780507781",
         "1221",
         "0.28820105743182667",
         "-0.19216297331313306"
        ],
        [
         "yes",
         "0.21723237597911227",
         "1915",
         "0.8046595701948182",
         "-0.0527356751390986"
        ]
       ],
       "shape": {
        "columns": 4,
        "rows": 3
       }
      },
      "text/html": [
       "<div>\n",
       "<style scoped>\n",
       "    .dataframe tbody tr th:only-of-type {\n",
       "        vertical-align: middle;\n",
       "    }\n",
       "\n",
       "    .dataframe tbody tr th {\n",
       "        vertical-align: top;\n",
       "    }\n",
       "\n",
       "    .dataframe thead th {\n",
       "        text-align: right;\n",
       "    }\n",
       "</style>\n",
       "<table border=\"1\" class=\"dataframe\">\n",
       "  <thead>\n",
       "    <tr style=\"text-align: right;\">\n",
       "      <th></th>\n",
       "      <th>mean</th>\n",
       "      <th>count</th>\n",
       "      <th>risk_ratio</th>\n",
       "      <th>difference</th>\n",
       "    </tr>\n",
       "    <tr>\n",
       "      <th>onlinebackup</th>\n",
       "      <th></th>\n",
       "      <th></th>\n",
       "      <th></th>\n",
       "      <th></th>\n",
       "    </tr>\n",
       "  </thead>\n",
       "  <tbody>\n",
       "    <tr>\n",
       "      <th>no</th>\n",
       "      <td>0.404323</td>\n",
       "      <td>2498</td>\n",
       "      <td>1.497672</td>\n",
       "      <td>0.134355</td>\n",
       "    </tr>\n",
       "    <tr>\n",
       "      <th>no_internet_service</th>\n",
       "      <td>0.077805</td>\n",
       "      <td>1221</td>\n",
       "      <td>0.288201</td>\n",
       "      <td>-0.192163</td>\n",
       "    </tr>\n",
       "    <tr>\n",
       "      <th>yes</th>\n",
       "      <td>0.217232</td>\n",
       "      <td>1915</td>\n",
       "      <td>0.804660</td>\n",
       "      <td>-0.052736</td>\n",
       "    </tr>\n",
       "  </tbody>\n",
       "</table>\n",
       "</div>"
      ],
      "text/plain": [
       "                         mean  count  risk_ratio  difference\n",
       "onlinebackup                                                \n",
       "no                   0.404323   2498    1.497672    0.134355\n",
       "no_internet_service  0.077805   1221    0.288201   -0.192163\n",
       "yes                  0.217232   1915    0.804660   -0.052736"
      ]
     },
     "metadata": {},
     "output_type": "display_data"
    },
    {
     "name": "stdout",
     "output_type": "stream",
     "text": [
      "\n",
      "deviceprotection\n"
     ]
    },
    {
     "data": {
      "application/vnd.microsoft.datawrangler.viewer.v0+json": {
       "columns": [
        {
         "name": "deviceprotection",
         "rawType": "object",
         "type": "string"
        },
        {
         "name": "mean",
         "rawType": "float64",
         "type": "float"
        },
        {
         "name": "count",
         "rawType": "int64",
         "type": "integer"
        },
        {
         "name": "risk_ratio",
         "rawType": "float64",
         "type": "float"
        },
        {
         "name": "difference",
         "rawType": "float64",
         "type": "float"
        }
       ],
       "ref": "0946ef3c-af12-45cb-81be-46d504b21326",
       "rows": [
        [
         "no",
         "0.3958754549130611",
         "2473",
         "1.4663789039974926",
         "0.12590740379485021"
        ],
        [
         "no_internet_service",
         "0.07780507780507781",
         "1221",
         "0.28820105743182667",
         "-0.19216297331313306"
        ],
        [
         "yes",
         "0.2304123711340206",
         "1940",
         "0.8534801439638869",
         "-0.03955567998419027"
        ]
       ],
       "shape": {
        "columns": 4,
        "rows": 3
       }
      },
      "text/html": [
       "<div>\n",
       "<style scoped>\n",
       "    .dataframe tbody tr th:only-of-type {\n",
       "        vertical-align: middle;\n",
       "    }\n",
       "\n",
       "    .dataframe tbody tr th {\n",
       "        vertical-align: top;\n",
       "    }\n",
       "\n",
       "    .dataframe thead th {\n",
       "        text-align: right;\n",
       "    }\n",
       "</style>\n",
       "<table border=\"1\" class=\"dataframe\">\n",
       "  <thead>\n",
       "    <tr style=\"text-align: right;\">\n",
       "      <th></th>\n",
       "      <th>mean</th>\n",
       "      <th>count</th>\n",
       "      <th>risk_ratio</th>\n",
       "      <th>difference</th>\n",
       "    </tr>\n",
       "    <tr>\n",
       "      <th>deviceprotection</th>\n",
       "      <th></th>\n",
       "      <th></th>\n",
       "      <th></th>\n",
       "      <th></th>\n",
       "    </tr>\n",
       "  </thead>\n",
       "  <tbody>\n",
       "    <tr>\n",
       "      <th>no</th>\n",
       "      <td>0.395875</td>\n",
       "      <td>2473</td>\n",
       "      <td>1.466379</td>\n",
       "      <td>0.125907</td>\n",
       "    </tr>\n",
       "    <tr>\n",
       "      <th>no_internet_service</th>\n",
       "      <td>0.077805</td>\n",
       "      <td>1221</td>\n",
       "      <td>0.288201</td>\n",
       "      <td>-0.192163</td>\n",
       "    </tr>\n",
       "    <tr>\n",
       "      <th>yes</th>\n",
       "      <td>0.230412</td>\n",
       "      <td>1940</td>\n",
       "      <td>0.853480</td>\n",
       "      <td>-0.039556</td>\n",
       "    </tr>\n",
       "  </tbody>\n",
       "</table>\n",
       "</div>"
      ],
      "text/plain": [
       "                         mean  count  risk_ratio  difference\n",
       "deviceprotection                                            \n",
       "no                   0.395875   2473    1.466379    0.125907\n",
       "no_internet_service  0.077805   1221    0.288201   -0.192163\n",
       "yes                  0.230412   1940    0.853480   -0.039556"
      ]
     },
     "metadata": {},
     "output_type": "display_data"
    },
    {
     "name": "stdout",
     "output_type": "stream",
     "text": [
      "\n",
      "techsupport\n"
     ]
    },
    {
     "data": {
      "application/vnd.microsoft.datawrangler.viewer.v0+json": {
       "columns": [
        {
         "name": "techsupport",
         "rawType": "object",
         "type": "string"
        },
        {
         "name": "mean",
         "rawType": "float64",
         "type": "float"
        },
        {
         "name": "count",
         "rawType": "int64",
         "type": "integer"
        },
        {
         "name": "risk_ratio",
         "rawType": "float64",
         "type": "float"
        },
        {
         "name": "difference",
         "rawType": "float64",
         "type": "float"
        }
       ],
       "ref": "57f18ba8-8758-48c9-a041-4beeaa173ebd",
       "rows": [
        [
         "no",
         "0.41891405969075873",
         "2781",
         "1.5517171678486092",
         "0.14894600857254786"
        ],
        [
         "no_internet_service",
         "0.07780507780507781",
         "1221",
         "0.28820105743182667",
         "-0.19216297331313306"
        ],
        [
         "yes",
         "0.15992647058823528",
         "1632",
         "0.5923903585102679",
         "-0.11004158052997559"
        ]
       ],
       "shape": {
        "columns": 4,
        "rows": 3
       }
      },
      "text/html": [
       "<div>\n",
       "<style scoped>\n",
       "    .dataframe tbody tr th:only-of-type {\n",
       "        vertical-align: middle;\n",
       "    }\n",
       "\n",
       "    .dataframe tbody tr th {\n",
       "        vertical-align: top;\n",
       "    }\n",
       "\n",
       "    .dataframe thead th {\n",
       "        text-align: right;\n",
       "    }\n",
       "</style>\n",
       "<table border=\"1\" class=\"dataframe\">\n",
       "  <thead>\n",
       "    <tr style=\"text-align: right;\">\n",
       "      <th></th>\n",
       "      <th>mean</th>\n",
       "      <th>count</th>\n",
       "      <th>risk_ratio</th>\n",
       "      <th>difference</th>\n",
       "    </tr>\n",
       "    <tr>\n",
       "      <th>techsupport</th>\n",
       "      <th></th>\n",
       "      <th></th>\n",
       "      <th></th>\n",
       "      <th></th>\n",
       "    </tr>\n",
       "  </thead>\n",
       "  <tbody>\n",
       "    <tr>\n",
       "      <th>no</th>\n",
       "      <td>0.418914</td>\n",
       "      <td>2781</td>\n",
       "      <td>1.551717</td>\n",
       "      <td>0.148946</td>\n",
       "    </tr>\n",
       "    <tr>\n",
       "      <th>no_internet_service</th>\n",
       "      <td>0.077805</td>\n",
       "      <td>1221</td>\n",
       "      <td>0.288201</td>\n",
       "      <td>-0.192163</td>\n",
       "    </tr>\n",
       "    <tr>\n",
       "      <th>yes</th>\n",
       "      <td>0.159926</td>\n",
       "      <td>1632</td>\n",
       "      <td>0.592390</td>\n",
       "      <td>-0.110042</td>\n",
       "    </tr>\n",
       "  </tbody>\n",
       "</table>\n",
       "</div>"
      ],
      "text/plain": [
       "                         mean  count  risk_ratio  difference\n",
       "techsupport                                                 \n",
       "no                   0.418914   2781    1.551717    0.148946\n",
       "no_internet_service  0.077805   1221    0.288201   -0.192163\n",
       "yes                  0.159926   1632    0.592390   -0.110042"
      ]
     },
     "metadata": {},
     "output_type": "display_data"
    },
    {
     "name": "stdout",
     "output_type": "stream",
     "text": [
      "\n",
      "streamingtv\n"
     ]
    },
    {
     "data": {
      "application/vnd.microsoft.datawrangler.viewer.v0+json": {
       "columns": [
        {
         "name": "streamingtv",
         "rawType": "object",
         "type": "string"
        },
        {
         "name": "mean",
         "rawType": "float64",
         "type": "float"
        },
        {
         "name": "count",
         "rawType": "int64",
         "type": "integer"
        },
        {
         "name": "risk_ratio",
         "rawType": "float64",
         "type": "float"
        },
        {
         "name": "difference",
         "rawType": "float64",
         "type": "float"
        }
       ],
       "ref": "e73473ba-d4d7-43f7-83d9-3da23d0be8b9",
       "rows": [
        [
         "no",
         "0.3428317008014248",
         "2246",
         "1.269897305927171",
         "0.0728636496832139"
        ],
        [
         "no_internet_service",
         "0.07780507780507781",
         "1221",
         "0.28820105743182667",
         "-0.19216297331313306"
        ],
        [
         "yes",
         "0.3027226580526073",
         "2167",
         "1.1213277156268175",
         "0.03275460693439641"
        ]
       ],
       "shape": {
        "columns": 4,
        "rows": 3
       }
      },
      "text/html": [
       "<div>\n",
       "<style scoped>\n",
       "    .dataframe tbody tr th:only-of-type {\n",
       "        vertical-align: middle;\n",
       "    }\n",
       "\n",
       "    .dataframe tbody tr th {\n",
       "        vertical-align: top;\n",
       "    }\n",
       "\n",
       "    .dataframe thead th {\n",
       "        text-align: right;\n",
       "    }\n",
       "</style>\n",
       "<table border=\"1\" class=\"dataframe\">\n",
       "  <thead>\n",
       "    <tr style=\"text-align: right;\">\n",
       "      <th></th>\n",
       "      <th>mean</th>\n",
       "      <th>count</th>\n",
       "      <th>risk_ratio</th>\n",
       "      <th>difference</th>\n",
       "    </tr>\n",
       "    <tr>\n",
       "      <th>streamingtv</th>\n",
       "      <th></th>\n",
       "      <th></th>\n",
       "      <th></th>\n",
       "      <th></th>\n",
       "    </tr>\n",
       "  </thead>\n",
       "  <tbody>\n",
       "    <tr>\n",
       "      <th>no</th>\n",
       "      <td>0.342832</td>\n",
       "      <td>2246</td>\n",
       "      <td>1.269897</td>\n",
       "      <td>0.072864</td>\n",
       "    </tr>\n",
       "    <tr>\n",
       "      <th>no_internet_service</th>\n",
       "      <td>0.077805</td>\n",
       "      <td>1221</td>\n",
       "      <td>0.288201</td>\n",
       "      <td>-0.192163</td>\n",
       "    </tr>\n",
       "    <tr>\n",
       "      <th>yes</th>\n",
       "      <td>0.302723</td>\n",
       "      <td>2167</td>\n",
       "      <td>1.121328</td>\n",
       "      <td>0.032755</td>\n",
       "    </tr>\n",
       "  </tbody>\n",
       "</table>\n",
       "</div>"
      ],
      "text/plain": [
       "                         mean  count  risk_ratio  difference\n",
       "streamingtv                                                 \n",
       "no                   0.342832   2246    1.269897    0.072864\n",
       "no_internet_service  0.077805   1221    0.288201   -0.192163\n",
       "yes                  0.302723   2167    1.121328    0.032755"
      ]
     },
     "metadata": {},
     "output_type": "display_data"
    },
    {
     "name": "stdout",
     "output_type": "stream",
     "text": [
      "\n",
      "streamingmovies\n"
     ]
    },
    {
     "data": {
      "application/vnd.microsoft.datawrangler.viewer.v0+json": {
       "columns": [
        {
         "name": "streamingmovies",
         "rawType": "object",
         "type": "string"
        },
        {
         "name": "mean",
         "rawType": "float64",
         "type": "float"
        },
        {
         "name": "count",
         "rawType": "int64",
         "type": "integer"
        },
        {
         "name": "risk_ratio",
         "rawType": "float64",
         "type": "float"
        },
        {
         "name": "difference",
         "rawType": "float64",
         "type": "float"
        }
       ],
       "ref": "655c7f0d-68b0-4209-9357-99e4a7b0d2e8",
       "rows": [
        [
         "no",
         "0.33890646181653866",
         "2213",
         "1.2553576632967645",
         "0.06893841069832779"
        ],
        [
         "no_internet_service",
         "0.07780507780507781",
         "1221",
         "0.28820105743182667",
         "-0.19216297331313306"
        ],
        [
         "yes",
         "0.30727272727272725",
         "2200",
         "1.138181818181818",
         "0.03730467615451638"
        ]
       ],
       "shape": {
        "columns": 4,
        "rows": 3
       }
      },
      "text/html": [
       "<div>\n",
       "<style scoped>\n",
       "    .dataframe tbody tr th:only-of-type {\n",
       "        vertical-align: middle;\n",
       "    }\n",
       "\n",
       "    .dataframe tbody tr th {\n",
       "        vertical-align: top;\n",
       "    }\n",
       "\n",
       "    .dataframe thead th {\n",
       "        text-align: right;\n",
       "    }\n",
       "</style>\n",
       "<table border=\"1\" class=\"dataframe\">\n",
       "  <thead>\n",
       "    <tr style=\"text-align: right;\">\n",
       "      <th></th>\n",
       "      <th>mean</th>\n",
       "      <th>count</th>\n",
       "      <th>risk_ratio</th>\n",
       "      <th>difference</th>\n",
       "    </tr>\n",
       "    <tr>\n",
       "      <th>streamingmovies</th>\n",
       "      <th></th>\n",
       "      <th></th>\n",
       "      <th></th>\n",
       "      <th></th>\n",
       "    </tr>\n",
       "  </thead>\n",
       "  <tbody>\n",
       "    <tr>\n",
       "      <th>no</th>\n",
       "      <td>0.338906</td>\n",
       "      <td>2213</td>\n",
       "      <td>1.255358</td>\n",
       "      <td>0.068938</td>\n",
       "    </tr>\n",
       "    <tr>\n",
       "      <th>no_internet_service</th>\n",
       "      <td>0.077805</td>\n",
       "      <td>1221</td>\n",
       "      <td>0.288201</td>\n",
       "      <td>-0.192163</td>\n",
       "    </tr>\n",
       "    <tr>\n",
       "      <th>yes</th>\n",
       "      <td>0.307273</td>\n",
       "      <td>2200</td>\n",
       "      <td>1.138182</td>\n",
       "      <td>0.037305</td>\n",
       "    </tr>\n",
       "  </tbody>\n",
       "</table>\n",
       "</div>"
      ],
      "text/plain": [
       "                         mean  count  risk_ratio  difference\n",
       "streamingmovies                                             \n",
       "no                   0.338906   2213    1.255358    0.068938\n",
       "no_internet_service  0.077805   1221    0.288201   -0.192163\n",
       "yes                  0.307273   2200    1.138182    0.037305"
      ]
     },
     "metadata": {},
     "output_type": "display_data"
    },
    {
     "name": "stdout",
     "output_type": "stream",
     "text": [
      "\n",
      "contract\n"
     ]
    },
    {
     "data": {
      "application/vnd.microsoft.datawrangler.viewer.v0+json": {
       "columns": [
        {
         "name": "contract",
         "rawType": "object",
         "type": "string"
        },
        {
         "name": "mean",
         "rawType": "float64",
         "type": "float"
        },
        {
         "name": "count",
         "rawType": "int64",
         "type": "integer"
        },
        {
         "name": "risk_ratio",
         "rawType": "float64",
         "type": "float"
        },
        {
         "name": "difference",
         "rawType": "float64",
         "type": "float"
        }
       ],
       "ref": "89afbbc2-b372-4b62-b8d7-50d2e40edc43",
       "rows": [
        [
         "month-to-month",
         "0.43170103092783507",
         "3104",
         "1.5990819252119808",
         "0.1617329798096242"
        ],
        [
         "one_year",
         "0.1205733558178752",
         "1186",
         "0.4466208327928395",
         "-0.14939469530033567"
        ],
        [
         "two_year",
         "0.028273809523809524",
         "1344",
         "0.10473020569174415",
         "-0.24169424159440134"
        ]
       ],
       "shape": {
        "columns": 4,
        "rows": 3
       }
      },
      "text/html": [
       "<div>\n",
       "<style scoped>\n",
       "    .dataframe tbody tr th:only-of-type {\n",
       "        vertical-align: middle;\n",
       "    }\n",
       "\n",
       "    .dataframe tbody tr th {\n",
       "        vertical-align: top;\n",
       "    }\n",
       "\n",
       "    .dataframe thead th {\n",
       "        text-align: right;\n",
       "    }\n",
       "</style>\n",
       "<table border=\"1\" class=\"dataframe\">\n",
       "  <thead>\n",
       "    <tr style=\"text-align: right;\">\n",
       "      <th></th>\n",
       "      <th>mean</th>\n",
       "      <th>count</th>\n",
       "      <th>risk_ratio</th>\n",
       "      <th>difference</th>\n",
       "    </tr>\n",
       "    <tr>\n",
       "      <th>contract</th>\n",
       "      <th></th>\n",
       "      <th></th>\n",
       "      <th></th>\n",
       "      <th></th>\n",
       "    </tr>\n",
       "  </thead>\n",
       "  <tbody>\n",
       "    <tr>\n",
       "      <th>month-to-month</th>\n",
       "      <td>0.431701</td>\n",
       "      <td>3104</td>\n",
       "      <td>1.599082</td>\n",
       "      <td>0.161733</td>\n",
       "    </tr>\n",
       "    <tr>\n",
       "      <th>one_year</th>\n",
       "      <td>0.120573</td>\n",
       "      <td>1186</td>\n",
       "      <td>0.446621</td>\n",
       "      <td>-0.149395</td>\n",
       "    </tr>\n",
       "    <tr>\n",
       "      <th>two_year</th>\n",
       "      <td>0.028274</td>\n",
       "      <td>1344</td>\n",
       "      <td>0.104730</td>\n",
       "      <td>-0.241694</td>\n",
       "    </tr>\n",
       "  </tbody>\n",
       "</table>\n",
       "</div>"
      ],
      "text/plain": [
       "                    mean  count  risk_ratio  difference\n",
       "contract                                               \n",
       "month-to-month  0.431701   3104    1.599082    0.161733\n",
       "one_year        0.120573   1186    0.446621   -0.149395\n",
       "two_year        0.028274   1344    0.104730   -0.241694"
      ]
     },
     "metadata": {},
     "output_type": "display_data"
    },
    {
     "name": "stdout",
     "output_type": "stream",
     "text": [
      "\n",
      "paperlessbilling\n"
     ]
    },
    {
     "data": {
      "application/vnd.microsoft.datawrangler.viewer.v0+json": {
       "columns": [
        {
         "name": "paperlessbilling",
         "rawType": "object",
         "type": "string"
        },
        {
         "name": "mean",
         "rawType": "float64",
         "type": "float"
        },
        {
         "name": "count",
         "rawType": "int64",
         "type": "integer"
        },
        {
         "name": "risk_ratio",
         "rawType": "float64",
         "type": "float"
        },
        {
         "name": "difference",
         "rawType": "float64",
         "type": "float"
        }
       ],
       "ref": "710f84bd-3998-41f0-93bc-4fdd0ce0a109",
       "rows": [
        [
         "no",
         "0.17207090358841332",
         "2313",
         "0.6373750629961346",
         "-0.09789714752979756"
        ],
        [
         "yes",
         "0.3381511592893707",
         "3321",
         "1.2525599154742368",
         "0.0681831081711598"
        ]
       ],
       "shape": {
        "columns": 4,
        "rows": 2
       }
      },
      "text/html": [
       "<div>\n",
       "<style scoped>\n",
       "    .dataframe tbody tr th:only-of-type {\n",
       "        vertical-align: middle;\n",
       "    }\n",
       "\n",
       "    .dataframe tbody tr th {\n",
       "        vertical-align: top;\n",
       "    }\n",
       "\n",
       "    .dataframe thead th {\n",
       "        text-align: right;\n",
       "    }\n",
       "</style>\n",
       "<table border=\"1\" class=\"dataframe\">\n",
       "  <thead>\n",
       "    <tr style=\"text-align: right;\">\n",
       "      <th></th>\n",
       "      <th>mean</th>\n",
       "      <th>count</th>\n",
       "      <th>risk_ratio</th>\n",
       "      <th>difference</th>\n",
       "    </tr>\n",
       "    <tr>\n",
       "      <th>paperlessbilling</th>\n",
       "      <th></th>\n",
       "      <th></th>\n",
       "      <th></th>\n",
       "      <th></th>\n",
       "    </tr>\n",
       "  </thead>\n",
       "  <tbody>\n",
       "    <tr>\n",
       "      <th>no</th>\n",
       "      <td>0.172071</td>\n",
       "      <td>2313</td>\n",
       "      <td>0.637375</td>\n",
       "      <td>-0.097897</td>\n",
       "    </tr>\n",
       "    <tr>\n",
       "      <th>yes</th>\n",
       "      <td>0.338151</td>\n",
       "      <td>3321</td>\n",
       "      <td>1.252560</td>\n",
       "      <td>0.068183</td>\n",
       "    </tr>\n",
       "  </tbody>\n",
       "</table>\n",
       "</div>"
      ],
      "text/plain": [
       "                      mean  count  risk_ratio  difference\n",
       "paperlessbilling                                         \n",
       "no                0.172071   2313    0.637375   -0.097897\n",
       "yes               0.338151   3321    1.252560    0.068183"
      ]
     },
     "metadata": {},
     "output_type": "display_data"
    },
    {
     "name": "stdout",
     "output_type": "stream",
     "text": [
      "\n",
      "paymentmethod\n"
     ]
    },
    {
     "data": {
      "application/vnd.microsoft.datawrangler.viewer.v0+json": {
       "columns": [
        {
         "name": "paymentmethod",
         "rawType": "object",
         "type": "string"
        },
        {
         "name": "mean",
         "rawType": "float64",
         "type": "float"
        },
        {
         "name": "count",
         "rawType": "int64",
         "type": "integer"
        },
        {
         "name": "risk_ratio",
         "rawType": "float64",
         "type": "float"
        },
        {
         "name": "difference",
         "rawType": "float64",
         "type": "float"
        }
       ],
       "ref": "279e8b5c-f19b-4bba-84fa-bc009bfa4e79",
       "rows": [
        [
         "bank_transfer_(automatic)",
         "0.1681706316652994",
         "1219",
         "0.6229279019081505",
         "-0.10179741945291146"
        ],
        [
         "credit_card_(automatic)",
         "0.16433853738701726",
         "1217",
         "0.6087332804986556",
         "-0.10562951373119361"
        ],
        [
         "electronic_check",
         "0.45589012150026414",
         "1893",
         "1.6886817518293806",
         "0.18592207038205327"
        ],
        [
         "mailed_check",
         "0.19386973180076628",
         "1305",
         "0.7181210183862703",
         "-0.0760983193174446"
        ]
       ],
       "shape": {
        "columns": 4,
        "rows": 4
       }
      },
      "text/html": [
       "<div>\n",
       "<style scoped>\n",
       "    .dataframe tbody tr th:only-of-type {\n",
       "        vertical-align: middle;\n",
       "    }\n",
       "\n",
       "    .dataframe tbody tr th {\n",
       "        vertical-align: top;\n",
       "    }\n",
       "\n",
       "    .dataframe thead th {\n",
       "        text-align: right;\n",
       "    }\n",
       "</style>\n",
       "<table border=\"1\" class=\"dataframe\">\n",
       "  <thead>\n",
       "    <tr style=\"text-align: right;\">\n",
       "      <th></th>\n",
       "      <th>mean</th>\n",
       "      <th>count</th>\n",
       "      <th>risk_ratio</th>\n",
       "      <th>difference</th>\n",
       "    </tr>\n",
       "    <tr>\n",
       "      <th>paymentmethod</th>\n",
       "      <th></th>\n",
       "      <th></th>\n",
       "      <th></th>\n",
       "      <th></th>\n",
       "    </tr>\n",
       "  </thead>\n",
       "  <tbody>\n",
       "    <tr>\n",
       "      <th>bank_transfer_(automatic)</th>\n",
       "      <td>0.168171</td>\n",
       "      <td>1219</td>\n",
       "      <td>0.622928</td>\n",
       "      <td>-0.101797</td>\n",
       "    </tr>\n",
       "    <tr>\n",
       "      <th>credit_card_(automatic)</th>\n",
       "      <td>0.164339</td>\n",
       "      <td>1217</td>\n",
       "      <td>0.608733</td>\n",
       "      <td>-0.105630</td>\n",
       "    </tr>\n",
       "    <tr>\n",
       "      <th>electronic_check</th>\n",
       "      <td>0.455890</td>\n",
       "      <td>1893</td>\n",
       "      <td>1.688682</td>\n",
       "      <td>0.185922</td>\n",
       "    </tr>\n",
       "    <tr>\n",
       "      <th>mailed_check</th>\n",
       "      <td>0.193870</td>\n",
       "      <td>1305</td>\n",
       "      <td>0.718121</td>\n",
       "      <td>-0.076098</td>\n",
       "    </tr>\n",
       "  </tbody>\n",
       "</table>\n",
       "</div>"
      ],
      "text/plain": [
       "                               mean  count  risk_ratio  difference\n",
       "paymentmethod                                                     \n",
       "bank_transfer_(automatic)  0.168171   1219    0.622928   -0.101797\n",
       "credit_card_(automatic)    0.164339   1217    0.608733   -0.105630\n",
       "electronic_check           0.455890   1893    1.688682    0.185922\n",
       "mailed_check               0.193870   1305    0.718121   -0.076098"
      ]
     },
     "metadata": {},
     "output_type": "display_data"
    },
    {
     "name": "stdout",
     "output_type": "stream",
     "text": [
      "\n"
     ]
    }
   ],
   "source": [
    "for c in categorical:\n",
    "    print(c)\n",
    "    customers_group = customers_full_train.groupby(c).churn.aggregate(['mean', 'count'])\n",
    "    customers_group['risk_ratio'] = customers_group['mean'] / global_churn_rate\n",
    "    customers_group['difference'] = customers_group['mean'] - global_churn_rate\n",
    "    display(customers_group)\n",
    "    print()\n",
    "    \n",
    "    # To display the result, I will use the display function."
   ]
  },
  {
   "cell_type": "markdown",
   "id": "84827273",
   "metadata": {},
   "source": [
    "How can we know which variable is more important than the other?"
   ]
  },
  {
   "cell_type": "markdown",
   "id": "6ca5030a",
   "metadata": {},
   "source": [
    "### Feature Importance: Mutual Information"
   ]
  },
  {
   "cell_type": "markdown",
   "id": "c63fc738",
   "metadata": {},
   "source": [
    "How do we know which variable is more important than the other? Mutual information is a concept that is taken from information theory, it tells us how much we can learn about one variable if we know the value of another variable."
   ]
  },
  {
   "cell_type": "code",
   "execution_count": 42,
   "id": "82810d19",
   "metadata": {},
   "outputs": [],
   "source": [
    "from sklearn.metrics import mutual_info_score"
   ]
  },
  {
   "cell_type": "code",
   "execution_count": 43,
   "id": "6ff97efb",
   "metadata": {},
   "outputs": [
    {
     "data": {
      "text/plain": [
       "0.0983203874041556"
      ]
     },
     "execution_count": 43,
     "metadata": {},
     "output_type": "execute_result"
    }
   ],
   "source": [
    "mutual_info_score(customers_full_train.churn, customers_full_train.contract)"
   ]
  },
  {
   "cell_type": "markdown",
   "id": "f5bfa408",
   "metadata": {},
   "source": [
    "This score means that contract type can tell us a lot about the churn rate. However, knowing whether a customer is a male or female doesn't inform us about customer churn."
   ]
  },
  {
   "cell_type": "code",
   "execution_count": 44,
   "id": "71b07977",
   "metadata": {},
   "outputs": [
    {
     "data": {
      "text/plain": [
       "0.0001174846211139946"
      ]
     },
     "execution_count": 44,
     "metadata": {},
     "output_type": "execute_result"
    }
   ],
   "source": [
    "mutual_info_score(customers_full_train.churn, customers_full_train.gender)"
   ]
  },
  {
   "cell_type": "code",
   "execution_count": 46,
   "id": "8810c420",
   "metadata": {},
   "outputs": [
    {
     "data": {
      "text/plain": [
       "0.009967689095399745"
      ]
     },
     "execution_count": 46,
     "metadata": {},
     "output_type": "execute_result"
    }
   ],
   "source": [
    "mutual_info_score(customers_full_train.churn, customers_full_train.partner)"
   ]
  },
  {
   "cell_type": "markdown",
   "id": "bef2f549",
   "metadata": {},
   "source": [
    "The partner variable is more important than gender but less important than contract type."
   ]
  },
  {
   "cell_type": "code",
   "execution_count": 48,
   "id": "59f94542",
   "metadata": {},
   "outputs": [],
   "source": [
    "def mutual_info_churn_score(series):\n",
    "    return mutual_info_score(series, customers_full_train.churn)"
   ]
  },
  {
   "cell_type": "code",
   "execution_count": 51,
   "id": "af20f601",
   "metadata": {},
   "outputs": [
    {
     "name": "stderr",
     "output_type": "stream",
     "text": [
      "/home/codespace/.local/share/virtualenvs/churn_prediction-l9zWFmUg/lib/python3.12/site-packages/sklearn/metrics/cluster/_supervised.py:49: UserWarning: The number of unique classes is greater than 50% of the number of samples.\n",
      "  type_label = type_of_target(labels_true)\n"
     ]
    },
    {
     "data": {
      "application/vnd.microsoft.datawrangler.viewer.v0+json": {
       "columns": [
        {
         "name": "index",
         "rawType": "object",
         "type": "string"
        },
        {
         "name": "0",
         "rawType": "float64",
         "type": "float"
        }
       ],
       "ref": "370eeaf7-2bc6-4a03-b6a5-40245e1c496c",
       "rows": [
        [
         "customerid",
         "0.5832270604600807"
        ],
        [
         "contract",
         "0.0983203874041556"
        ],
        [
         "onlinesecurity",
         "0.06308524972985574"
        ],
        [
         "techsupport",
         "0.06103245991777444"
        ],
        [
         "internetservice",
         "0.055867945893496467"
        ],
        [
         "onlinebackup",
         "0.0469234640537918"
        ],
        [
         "deviceprotection",
         "0.04345286925268559"
        ],
        [
         "paymentmethod",
         "0.043210027531582915"
        ],
        [
         "streamingtv",
         "0.03185333110086085"
        ],
        [
         "streamingmovies",
         "0.03158089669519908"
        ],
        [
         "paperlessbilling",
         "0.01758882715925275"
        ],
        [
         "dependents",
         "0.012345815445534689"
        ],
        [
         "partner",
         "0.009967689095399745"
        ],
        [
         "multiplelines",
         "0.0008574478744731856"
        ],
        [
         "phoneservice",
         "0.00022871269738296285"
        ],
        [
         "gender",
         "0.0001174846211139946"
        ]
       ],
       "shape": {
        "columns": 1,
        "rows": 16
       }
      },
      "text/plain": [
       "customerid          0.583227\n",
       "contract            0.098320\n",
       "onlinesecurity      0.063085\n",
       "techsupport         0.061032\n",
       "internetservice     0.055868\n",
       "onlinebackup        0.046923\n",
       "deviceprotection    0.043453\n",
       "paymentmethod       0.043210\n",
       "streamingtv         0.031853\n",
       "streamingmovies     0.031581\n",
       "paperlessbilling    0.017589\n",
       "dependents          0.012346\n",
       "partner             0.009968\n",
       "multiplelines       0.000857\n",
       "phoneservice        0.000229\n",
       "gender              0.000117\n",
       "dtype: float64"
      ]
     },
     "execution_count": 51,
     "metadata": {},
     "output_type": "execute_result"
    }
   ],
   "source": [
    "mutual_info = customers_full_train[categorical].apply(mutual_info_churn_score).sort_values(ascending=False)\n",
    "mutual_info"
   ]
  },
  {
   "cell_type": "markdown",
   "id": "1004c890",
   "metadata": {},
   "source": [
    "It is clear that contract, online security, tech support, internet service, online backup"
   ]
  },
  {
   "cell_type": "markdown",
   "id": "32abe9a8",
   "metadata": {},
   "source": [
    "### Feature importance: Correlation\n"
   ]
  },
  {
   "cell_type": "markdown",
   "id": "5197e3b7",
   "metadata": {},
   "source": [
    "I identified important features among categorical variables. In order to find important features among numerical variables, I will use correlation.Correlation is a way to measure the degree of dependency between two numerical variables. "
   ]
  },
  {
   "cell_type": "code",
   "execution_count": 52,
   "id": "b3a13efe",
   "metadata": {},
   "outputs": [
    {
     "data": {
      "application/vnd.microsoft.datawrangler.viewer.v0+json": {
       "columns": [
        {
         "name": "index",
         "rawType": "object",
         "type": "string"
        },
        {
         "name": "0",
         "rawType": "float64",
         "type": "float"
        }
       ],
       "ref": "1c72ac93-a374-47d2-8c07-7914eb8116c3",
       "rows": [
        [
         "monthlycharges",
         "0.19680530682529082"
        ],
        [
         "totalcharges",
         "-0.19635337452472953"
        ],
        [
         "tenure",
         "-0.35188523911590297"
        ]
       ],
       "shape": {
        "columns": 1,
        "rows": 3
       }
      },
      "text/plain": [
       "monthlycharges    0.196805\n",
       "totalcharges     -0.196353\n",
       "tenure           -0.351885\n",
       "dtype: float64"
      ]
     },
     "execution_count": 52,
     "metadata": {},
     "output_type": "execute_result"
    }
   ],
   "source": [
    "customers_full_train[numerical].corrwith(customers_full_train.churn).sort_values(ascending=False)   "
   ]
  },
  {
   "cell_type": "markdown",
   "id": "23a1c982",
   "metadata": {},
   "source": [
    "Tenure: The more people stay with the company, the less likely they will leave.\n",
    "Total charges: The more people pay, the less likely they will leave.\n",
    "Monthly charges: The more people pay monthly, the more churn rate."
   ]
  },
  {
   "cell_type": "code",
   "execution_count": 53,
   "id": "f007c46b",
   "metadata": {},
   "outputs": [
    {
     "data": {
      "text/plain": [
       "np.float64(0.5953420669577875)"
      ]
     },
     "execution_count": 53,
     "metadata": {},
     "output_type": "execute_result"
    }
   ],
   "source": [
    "customers_full_train[customers_full_train.tenure <= 2].churn.mean()"
   ]
  },
  {
   "cell_type": "code",
   "execution_count": 54,
   "id": "b676fc51",
   "metadata": {},
   "outputs": [
    {
     "data": {
      "text/plain": [
       "np.float64(0.22478269658378816)"
      ]
     },
     "execution_count": 54,
     "metadata": {},
     "output_type": "execute_result"
    }
   ],
   "source": [
    "customers_full_train[customers_full_train.tenure > 2].churn.mean()"
   ]
  },
  {
   "cell_type": "code",
   "execution_count": 56,
   "id": "95edf690",
   "metadata": {},
   "outputs": [
    {
     "data": {
      "text/plain": [
       "np.float64(0.3994413407821229)"
      ]
     },
     "execution_count": 56,
     "metadata": {},
     "output_type": "execute_result"
    }
   ],
   "source": [
    "customers_full_train[(customers_full_train.tenure > 2) & (customers_full_train.tenure <= 12)].churn.mean()"
   ]
  },
  {
   "cell_type": "code",
   "execution_count": 55,
   "id": "76c9d1ef",
   "metadata": {},
   "outputs": [
    {
     "data": {
      "text/plain": [
       "np.float64(0.17634908339788277)"
      ]
     },
     "execution_count": 55,
     "metadata": {},
     "output_type": "execute_result"
    }
   ],
   "source": [
    "customers_full_train[customers_full_train.tenure > 12].churn.mean()"
   ]
  },
  {
   "cell_type": "markdown",
   "id": "a3493530",
   "metadata": {},
   "source": [
    "Tenure has a negative correlation with the churn rate."
   ]
  },
  {
   "cell_type": "markdown",
   "id": "528c8eb7",
   "metadata": {},
   "source": [
    "Monthly charges has a positive correlation with the churn rate."
   ]
  },
  {
   "cell_type": "code",
   "execution_count": 57,
   "id": "07639a0b",
   "metadata": {},
   "outputs": [
    {
     "data": {
      "text/plain": [
       "np.float64(0.08795411089866156)"
      ]
     },
     "execution_count": 57,
     "metadata": {},
     "output_type": "execute_result"
    }
   ],
   "source": [
    "customers_full_train[customers_full_train.monthlycharges <= 20].churn.mean()"
   ]
  },
  {
   "cell_type": "code",
   "execution_count": 58,
   "id": "cc397148",
   "metadata": {},
   "outputs": [
    {
     "data": {
      "text/plain": [
       "np.float64(0.18340943683409436)"
      ]
     },
     "execution_count": 58,
     "metadata": {},
     "output_type": "execute_result"
    }
   ],
   "source": [
    "customers_full_train[(customers_full_train.monthlycharges > 20) & (customers_full_train.monthlycharges <= 50)].churn.mean()"
   ]
  },
  {
   "cell_type": "code",
   "execution_count": 59,
   "id": "0ba6bd05",
   "metadata": {},
   "outputs": [
    {
     "data": {
      "text/plain": [
       "np.float64(0.32499341585462205)"
      ]
     },
     "execution_count": 59,
     "metadata": {},
     "output_type": "execute_result"
    }
   ],
   "source": [
    "customers_full_train[customers_full_train.monthlycharges > 50].churn.mean()"
   ]
  },
  {
   "cell_type": "markdown",
   "id": "a443196c",
   "metadata": {},
   "source": [
    "If we only care about the importance of features and not the direction of correlation (positive or negative): "
   ]
  },
  {
   "cell_type": "code",
   "execution_count": 60,
   "id": "5334e989",
   "metadata": {},
   "outputs": [
    {
     "data": {
      "application/vnd.microsoft.datawrangler.viewer.v0+json": {
       "columns": [
        {
         "name": "index",
         "rawType": "object",
         "type": "string"
        },
        {
         "name": "0",
         "rawType": "float64",
         "type": "float"
        }
       ],
       "ref": "ba0efea8-a9bd-4687-9fb0-43cc54930e77",
       "rows": [
        [
         "tenure",
         "0.35188523911590297"
        ],
        [
         "monthlycharges",
         "0.19680530682529082"
        ],
        [
         "totalcharges",
         "0.19635337452472953"
        ]
       ],
       "shape": {
        "columns": 1,
        "rows": 3
       }
      },
      "text/plain": [
       "tenure            0.351885\n",
       "monthlycharges    0.196805\n",
       "totalcharges      0.196353\n",
       "dtype: float64"
      ]
     },
     "execution_count": 60,
     "metadata": {},
     "output_type": "execute_result"
    }
   ],
   "source": [
    "customers_full_train[numerical].corrwith(customers_full_train.churn).abs().sort_values(ascending=False)"
   ]
  },
  {
   "cell_type": "markdown",
   "id": "86628e88",
   "metadata": {},
   "source": [
    "Tenure is the most important numerical variable. "
   ]
  },
  {
   "cell_type": "markdown",
   "id": "00e018e5",
   "metadata": {},
   "source": [
    "### One-hot encodng"
   ]
  }
 ],
 "metadata": {
  "kernelspec": {
   "display_name": "churn_prediction-l9zWFmUg",
   "language": "python",
   "name": "python3"
  },
  "language_info": {
   "codemirror_mode": {
    "name": "ipython",
    "version": 3
   },
   "file_extension": ".py",
   "mimetype": "text/x-python",
   "name": "python",
   "nbconvert_exporter": "python",
   "pygments_lexer": "ipython3",
   "version": "3.12.3"
  }
 },
 "nbformat": 4,
 "nbformat_minor": 5
}
